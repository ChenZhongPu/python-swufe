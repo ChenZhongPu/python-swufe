{
 "cells": [
  {
   "cell_type": "markdown",
   "id": "d7fd4500-204e-427e-a967-b500e0ef23c3",
   "metadata": {},
   "source": [
    "# 复习\n",
    "- 列表\n",
    "- 元组"
   ]
  },
  {
   "cell_type": "markdown",
   "id": "177eb2ab-799b-404e-a1fb-2cb50c47b110",
   "metadata": {},
   "source": [
    "# Quiz\n",
    "给定下面的具名元组，表示二维空间中的点：\n",
    "\n",
    "```python\n",
    "from collections import namedtuple\n",
    "\n",
    "Point = namedtuple('Point', ['x', 'y'])\n",
    "```\n",
    "\n",
    "已知`x`可能的选择是1,2,6,8,9,10，而`y`可能的选择是2,3,4,5,6,11，并且`x`和`y`不能相等。请使用列表推导式得到所有可能的点，并打印这些点的数量。\n",
    "\n",
    "## 思考\n",
    "\n",
    "给定一个列表或元组`a`，如何使用判断它是否为非空？\n",
    "\n",
    "参考阅读[Python Booleans: Use Truth Values in Your Code](https://realpython.com/python-boolean/)"
   ]
  },
  {
   "cell_type": "markdown",
   "id": "82d280bb-28ec-42cb-b8cc-1fe771d3274b",
   "metadata": {},
   "source": [
    "\n",
    "![python collection](images/python_collection.svg)\n",
    "\n",
    "# 集合（set）\n",
    "\n",
    "集合就是数学意义上的集合，具备两个重要特征：无序、无重复。\n",
    "\n",
    ">  A set is an unordered collection with no duplicate elements. "
   ]
  },
  {
   "cell_type": "markdown",
   "id": "480de3f0-be22-40db-90cc-26a51b525c4a",
   "metadata": {},
   "source": [
    "## 基本操作\n",
    "\n",
    "```\n",
    ">>> basket = {'apple', 'orange', 'apple', 'pear', 'orange', 'banana'}\n",
    ">>> basket\n",
    ">>> 'orange' in basket\n",
    ">>> len(basket)\n",
    ">>> set(\"hello\")\n",
    ">>> set() # 空集合不能使用{}\n",
    ">>> set([1, 3, 9, 5, 7, 7])\n",
    ">>> basket.add('kiwifruit')\n",
    ">>> basket.remove('orange') # 前提是orange必须存在，否则报错\n",
    "```"
   ]
  },
  {
   "cell_type": "markdown",
   "id": "9c5e615e-cb26-4551-bd6b-38c7e4eec162",
   "metadata": {},
   "source": [
    "### 集合推导式\n",
    "\n",
    "集合也支持推导式（注意元组不支持）：\n",
    "\n",
    "```python\n",
    "names = [\"Alice\", \"Bob\", \"Charlie\", \"David\", \"Eve\"]\n",
    "\n",
    "name_lengths = {len(name) for name in names}\n",
    "```"
   ]
  },
  {
   "cell_type": "markdown",
   "id": "fcd59a64-09ad-4c91-92cb-3bfaaa33b468",
   "metadata": {},
   "source": [
    "### 应用\n",
    "\n",
    "补全下面的代码：\n",
    "\n",
    "```python\n",
    "def get_favorite_colors():\n",
    "    favorite_colors = set()\n",
    "\n",
    "    while True:\n",
    "        color = input(\"Enter a favorite color (or 'quit' to exit): \")\n",
    "        if color.lower() == \"quit\":\n",
    "            _______\n",
    "        ___________________________\n",
    "    return favorite_colors\n",
    "\n",
    "colors = get_favorite_colors()\n",
    "for c in colors:\n",
    "    print(c)\n",
    "```"
   ]
  },
  {
   "cell_type": "markdown",
   "id": "21ec4da7-7d12-4a69-9880-d9fae5a73a62",
   "metadata": {},
   "source": [
    "## 基本操作（续）\n",
    "\n",
    "集合就是数学意义上的集合。因此支持并、交、差。\n",
    "\n",
    "![set](https://i.stack.imgur.com/uH6cL.png)"
   ]
  },
  {
   "cell_type": "markdown",
   "id": "a2310ea6-02dd-4d7f-8676-20fe98117fac",
   "metadata": {},
   "source": [
    "```\n",
    ">>> a = set('abracadabra')\n",
    ">>> b = set('alacazam')\n",
    ">>> a                                  # unique letters in a\n",
    "{'a', 'r', 'b', 'c', 'd'}\n",
    ">>> a - b                              # letters in a but not in b\n",
    "{'r', 'd', 'b'}\n",
    ">>> a | b                              # letters in a or b or both\n",
    "{'a', 'c', 'r', 'd', 'b', 'm', 'z', 'l'}\n",
    ">>> a & b                              # letters in both a and b\n",
    "{'a', 'c'}\n",
    ">>> a ^ b                              # letters in a or b but not both\n",
    "{'r', 'd', 'b', 'm', 'z', 'l'}\n",
    ">>> box = {'apple', 'banana'}\n",
    ">>> box.issubset(basket)\n",
    ">>> basket.issuperset(box)\n",
    "```\n",
    "\n",
    "----\n",
    "\n",
    "- `a - b`等价于`a.difference(b)`\n",
    "- `a | b`等价于`a.union(b)`\n",
    "- `a & b`等价于`a.intersection(b)`\n",
    "- `a ^ b`等价于`a.symmetric_difference(b)`"
   ]
  },
  {
   "cell_type": "markdown",
   "id": "730b8ee7-3406-4928-a9b1-ac28e25f8536",
   "metadata": {},
   "source": [
    "## 可哈希（hashable）\n",
    "\n",
    "下面的代码是否正确：\n",
    "\n",
    "```python\n",
    "data = {1, 'hello', [1, 2, 3], 3.14}\n",
    "```\n",
    "\n",
    "> 集合中的元素必须是可哈希的。\n",
    "\n",
    "- 不可变的类型都是可哈希的\n",
    "- 可变的类型都是不可哈希的\n",
    "\n",
    "可以使用`hash()`得到一个元素的哈希值。参考[hashable](https://docs.python.org/3/glossary.html#term-hashable)。"
   ]
  },
  {
   "cell_type": "markdown",
   "id": "511aeac0-8ab4-4a38-a1bc-ce83487409aa",
   "metadata": {},
   "source": [
    "# 字典（dict）\n",
    "字典在其他编程语言中称为关联数组（associative arrays）、或`map`。该集合的元素是将一个值**映射**（mapping）到另外一个值。\n",
    "\n",
    "考虑不同国家/地区在成都大运会所获的金牌数量：\n",
    "\n",
    "| 国家/地区 |  金牌数量 |\n",
    "| ---- | ----- |\n",
    "| 中国 | 103 |\n",
    "| 日本 | 21 |\n",
    "| 韩国 | 17 |\n",
    "| 意大利 | 17 |"
   ]
  },
  {
   "cell_type": "markdown",
   "id": "16d81c12-b78e-42ab-81af-edee0cd509c0",
   "metadata": {},
   "source": [
    "```python\n",
    "# key, value\n",
    ">>> medals = {'中国': 103, '日本': 21, '韩国': 17, '意大利': 16}\n",
    ">>> medals['中国']\n",
    ">>> medals['意大利'] = 17 # 修改\n",
    ">>> medals['印度'] = 11 # 新增\n",
    ">>> data = {} # 空字典 或者 dict()\n",
    ">>> len(medals)\n",
    "```"
   ]
  },
  {
   "cell_type": "markdown",
   "id": "c6eb6c45-0097-4013-8067-c1d5e8197386",
   "metadata": {},
   "source": [
    "![dict](images/dict.svg)"
   ]
  },
  {
   "cell_type": "markdown",
   "id": "5968687f-412a-444b-b552-e7c81e4750bf",
   "metadata": {},
   "source": [
    "### 测试\n",
    "测试下面的代码，你有什么结论？\n",
    "\n",
    "```python\n",
    ">>> medals['朝鲜']\n",
    ">>> medals.get('朝鲜') # 查阅help(dict.get)或dict.get?\n",
    "```"
   ]
  },
  {
   "cell_type": "markdown",
   "id": "39419412-4a6b-4276-bee5-69b5a4d2f05e",
   "metadata": {},
   "source": [
    "## del\n",
    "`del`语句可以用来删除容器中的元素：\n",
    "\n",
    "```python\n",
    ">>> a = [1, 2, 3, 4, 5, 6]\n",
    ">>> del a[0]\n",
    ">>> del a[2:4]\n",
    "```\n",
    "\n",
    "----\n",
    "\n",
    "```python\n",
    ">>> del medals['意大利']\n",
    ">>> len(medals)\n",
    "```"
   ]
  },
  {
   "cell_type": "markdown",
   "id": "9bb5be4e-105e-4c80-a5ac-74df95cf923d",
   "metadata": {},
   "source": [
    "## key和value\n",
    "\n",
    "```python\n",
    ">>> medals.keys()\n",
    ">>> medals.values()\n",
    ">>> list(medals)\n",
    ">>> '中国' in medals # 判定key是否在字典中\n",
    "```"
   ]
  },
  {
   "cell_type": "markdown",
   "id": "6cadd7fd-4811-4731-812e-f022d4f3fe0b",
   "metadata": {},
   "source": [
    "### 对字典迭代\n",
    "\n",
    "```python\n",
    "for country in medals.keys():\n",
    "     print(country, medals[country])\n",
    "\n",
    "for country in medals:\n",
    "     print(country, medals[country])\n",
    "```\n",
    "\n",
    "---\n",
    "\n",
    "```python\n",
    "# 同时获得key和value\n",
    "for country, cnt in medals.items():\n",
    "    print(country, cnt)\n",
    "```"
   ]
  },
  {
   "cell_type": "markdown",
   "id": "e8536662-c2d3-4ef1-9dfa-8f7f4b94846c",
   "metadata": {},
   "source": [
    "### 字典与可哈希\n",
    "下面的代码是否正确？\n",
    "\n",
    "```python\n",
    "data = {[1]: 1, [1, 3]: 2, [2, 3, 4]: 3}\n",
    "```\n",
    "\n",
    "> 字典的key必须是可哈希的！"
   ]
  },
  {
   "cell_type": "markdown",
   "id": "ee1a1728-d0a7-4c46-ac4b-b27a3281d237",
   "metadata": {},
   "source": [
    "## 字典推导式\n",
    "考虑下面的列表：\n",
    "\n",
    "```python\n",
    "fruits = ['apple', 'orange', 'pear', 'banana']\n",
    "```\n",
    "\n",
    "请计算每种水果名称的长度保存在一个字典中，其中key是水果名称，value是名称的长度。\n",
    "\n",
    "> 列表、集合和字典均支持推导式，但没有元组推导式。"
   ]
  },
  {
   "cell_type": "markdown",
   "id": "4a7e27bb-d1d6-4425-a382-16a53a3c3596",
   "metadata": {},
   "source": [
    "## 应用\n",
    "设计一个大运会金牌统计系统。我们假设数据保存在一个列表中，每个元素表示某国家/地区获得金牌一次。请统计每个国家/地区获得的金牌总数，保存在一个字典中。\n",
    "\n",
    "```python\n",
    "raw_data = [\n",
    "    \"China\",\n",
    "    \"China\",\n",
    "    \"Japan\",\n",
    "    \"China\",\n",
    "    \"Italy\",\n",
    "    \"Korea\",\n",
    "    \"China\",\n",
    "    \"Japan\",\n",
    "    \"India\",\n",
    "    \"UK\",\n",
    "    \"Korea\",\n",
    "]\n",
    "\n",
    "medals = {}\n",
    "\n",
    "for country in raw_data:\n",
    "    if country not in medals:\n",
    "        ____________________\n",
    "    else:\n",
    "        ____________________\n",
    "\n",
    "print(medals)\n",
    "```"
   ]
  },
  {
   "cell_type": "markdown",
   "id": "4b0e2bdf-c079-42d3-8a47-1b9d5678bbd8",
   "metadata": {},
   "source": [
    "### defaultdict\n",
    "如果key在字典中不存在，那么是无法直接获取其对应的value，也无法对其value进行修改。因此，**需要判定key是否存在**。\n",
    "\n",
    "而Python的`collections`模块的`defaultdict`使得上述场景变得简单：\n",
    "\n",
    "```python\n",
    "from collections import defaultdict\n",
    "\n",
    "# Create a defaultdict with default value 0\n",
    "my_dict = defaultdict(int)\n",
    "\n",
    "my_dict[\"a\"] = 1\n",
    "my_dict[\"b\"] = 2\n",
    "\n",
    "print(my_dict[\"a\"])  # Output: 1\n",
    "print(my_dict[\"b\"])  # Output: 2\n",
    "print(my_dict[\"c\"])  # Output: 0 (default value)\n",
    "\n",
    "print(my_dict)\n",
    "```"
   ]
  },
  {
   "cell_type": "markdown",
   "id": "615cc88c-1971-43be-abc2-25ba3dd7fa3c",
   "metadata": {},
   "source": [
    "### 练习\n",
    "请使用`defaultdict`重写上面大运会金牌统计系统。"
   ]
  },
  {
   "cell_type": "markdown",
   "id": "b36573a8-5b51-4612-995d-a9818ca95c4a",
   "metadata": {},
   "source": [
    "# 异常处理\n",
    "程序中可能有多种错误，比如语法错误：`length('hello')`、`for i inside vec`。还有一种错误叫异常（exception），其语法正确，但语义不正确。\n",
    "\n",
    "```python\n",
    ">>> 1 / 0\n",
    ">>> a + 1\n",
    "\n",
    ">>> fruits = ['apple', 'orange', 'pear', 'banana']\n",
    ">>> fruits[4]\n",
    ">>> fruites.remove('grapes')\n",
    ">>> medals = {'中国': 103, '日本': 21, '韩国': 17, '意大利': 17}\n",
    ">>> medals['朝鲜']\n",
    "```"
   ]
  },
  {
   "cell_type": "markdown",
   "id": "7c04c72e-597b-4123-8e94-2dfe4b4bfdce",
   "metadata": {},
   "source": [
    "## try except结构\n",
    "\n",
    "```python\n",
    "try:\n",
    "    可能有异常的语句\n",
    "except 异常类型：\n",
    "    自定义异常处理方法\n",
    "```\n",
    "\n",
    "-----\n",
    "\n",
    "```python\n",
    "try:\n",
    "    1 / 0\n",
    "except ZeroDivisionError:\n",
    "    print('ERROR')\n",
    "```\n",
    "\n",
    "----\n",
    "\n",
    "```python\n",
    "fruits = ['apple', 'orange', 'pear', 'banana']\n",
    "try:\n",
    "    fruits[4]\n",
    "except:\n",
    "    print('列表越界错误')\n",
    "```"
   ]
  },
  {
   "cell_type": "markdown",
   "id": "43c743ea-0dfa-4839-b3f3-e4a9f4c55cd3",
   "metadata": {},
   "source": [
    "## EAFP\n",
    "\n",
    "考虑`a/b`的问题。一种常用处理错误的哲学是LBYL（look before you leap），被翻译成“三思而后行”。\n",
    "\n",
    "```python\n",
    "a, b = 1, 0\n",
    "if b != 0:\n",
    "    a / b\n",
    "else:\n",
    "    print('ERROR')\n",
    "```\n",
    "\n",
    "而Python中更推荐的方式是EAFP（easier to ask for forgiveness than permission），可直译为“获取原谅比许可简单”。\n",
    "\n",
    "```python\n",
    "a, b = 1, 0\n",
    "try:\n",
    "    1 / 0\n",
    "except ZeroDivisionError:\n",
    "    print('ERROR')\n",
    "```\n",
    "\n",
    "第一种类似“如果天气预报说会下雨，那么我就不出门”；而第二种更像“出门前不看天气预报，如果淋雨了，就回家后洗澡吃感冒药”。"
   ]
  },
  {
   "cell_type": "markdown",
   "id": "9287249a-5790-4ad1-94bc-d37117f88d89",
   "metadata": {},
   "source": [
    "## 应用\n",
    "使用异常处理来解决字典访问时key不存在的问题。\n",
    "\n",
    "```python\n",
    "medals = {}\n",
    "\n",
    "for country in raw_data:\n",
    "    try:\n",
    "        medals[country] += 1\n",
    "    except _______:\n",
    "        medals[country] = 1\n",
    "```\n",
    "\n",
    "这个方法更高效，也更加Pythonic。"
   ]
  },
  {
   "cell_type": "markdown",
   "id": "afd0d0d7-f854-41ea-bb69-3a5c12664c8d",
   "metadata": {},
   "source": [
    "## 练习\n",
    "\n",
    "考虑下面的代码：\n",
    "\n",
    "```python\n",
    "import math\n",
    "\n",
    "def is_prime(n):\n",
    "    for i in range(2, int(math.sqrt(n)) + 1):\n",
    "        if n % i == 0:\n",
    "            return False\n",
    "        i += 1\n",
    "    return True\n",
    "\n",
    "number = int(input('Input an integer'))\n",
    "print(is_prime(number))\n",
    "```\n",
    "\n",
    "显然，如果用户输入了非整数（如abc），上面的代码会报错。请为上面的代码加入异常处理。"
   ]
  }
 ],
 "metadata": {
  "kernelspec": {
   "display_name": "Python 3 (ipykernel)",
   "language": "python",
   "name": "python3"
  },
  "language_info": {
   "codemirror_mode": {
    "name": "ipython",
    "version": 3
   },
   "file_extension": ".py",
   "mimetype": "text/x-python",
   "name": "python",
   "nbconvert_exporter": "python",
   "pygments_lexer": "ipython3",
   "version": "3.10.13"
  }
 },
 "nbformat": 4,
 "nbformat_minor": 5
}
