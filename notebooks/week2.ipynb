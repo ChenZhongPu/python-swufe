{
 "cells": [
  {
   "cell_type": "markdown",
   "id": "d180fe54-0391-4ad5-bcad-4db8502dde05",
   "metadata": {},
   "source": [
    "# 复习\n",
    "\n",
    "- 程序、源代码、Python解释器、Shell\n",
    "- 对象、类型（整数、字符串、浮点数、布尔量等）\n",
    "- 变量\n",
    "- 表达式\n",
    "- 分支（`if` `elif` `else`）"
   ]
  },
  {
   "cell_type": "markdown",
   "id": "f5ac09dd-573b-4b69-9c40-49c7fa98a85a",
   "metadata": {},
   "source": [
    "# Quiz\n",
    "\n",
    "考虑下面的场景，用代码实现：\n",
    "\n",
    "```python\n",
    "# 初始金额是个变量\n",
    "money = 200_000\n",
    "# 如果金额小于10_000，利率是1%\n",
    "# 如果金额在10_000到50_000（不含）之间，利率为2%\n",
    "# 如果金额在50_000到100_000（不含）之间，利率为3%\n",
    "# 如果金额在100_000到500_000（不含）之间，利率为4%\n",
    "# 如果金额大于等于500_000，利率为5%\n",
    "# 最终打印出3年后的本息和\n",
    "```"
   ]
  },
  {
   "cell_type": "markdown",
   "id": "794cda62-2031-4dca-b0cb-022615ba38b4",
   "metadata": {},
   "source": [
    "# 1. 字符串\n",
    "\n",
    "> 字符串（string）表示字符（character）的集合，可以使用单引号或双引号包围。\n",
    "\n",
    "和其他编程语言不同的是，Python实际上并没有**字符**的概念，而认为是长度为1的字符串。\n",
    "\n",
    "```python\n",
    "'hello 你好 🐍'\n",
    "\"hello 你好 🐍\"\n",
    "\"hello ' abc\"\n",
    "'hello \" abc\"\n",
    "'hello \\' abc'\n",
    "```"
   ]
  },
  {
   "cell_type": "markdown",
   "id": "3e6e226c-034e-45a6-baa3-043d57a9fd16",
   "metadata": {
    "editable": true,
    "slideshow": {
     "slide_type": ""
    },
    "tags": []
   },
   "source": [
    "## 1.1 转义字符（escape chracter）\n",
    "\n",
    "> An escape character is a character that invokes an alternative interpretation on the following characters in a character sequence.\n",
    "\n",
    "最常用的转义字符：\n",
    "\n",
    "- \\n：换行\n",
    "- \\r：回车\n",
    "- \\\\：斜线\n",
    "- \\'：单引号\n",
    "- \\\"：双引号\n",
    "- \\t：Tab"
   ]
  },
  {
   "cell_type": "markdown",
   "id": "ef9b55c9-8abe-4274-a01c-2fadbc2fcf54",
   "metadata": {},
   "source": [
    "## 1.2 字符串常用操作"
   ]
  },
  {
   "cell_type": "code",
   "execution_count": 1,
   "id": "dcd6a39a-5e04-4b40-b729-c3ad31217f1d",
   "metadata": {},
   "outputs": [
    {
     "data": {
      "text/plain": [
       "'西南财经'"
      ]
     },
     "execution_count": 1,
     "metadata": {},
     "output_type": "execute_result"
    }
   ],
   "source": [
    "# 字符串合并\n",
    "a = '西南'\n",
    "b = '财经'\n",
    "a + b"
   ]
  },
  {
   "cell_type": "code",
   "execution_count": 2,
   "id": "9d58a100-f41f-4b2d-b3ec-050ecd945e76",
   "metadata": {},
   "outputs": [
    {
     "name": "stdout",
     "output_type": "stream",
     "text": [
      "+----------+\n"
     ]
    }
   ],
   "source": [
    "a = '+' + '-' * 10 + '+'\n",
    "print(a)"
   ]
  },
  {
   "cell_type": "code",
   "execution_count": 3,
   "id": "c39fa002-4ba3-4f68-aa01-76ddee936284",
   "metadata": {},
   "outputs": [
    {
     "data": {
      "text/plain": [
       "12"
      ]
     },
     "execution_count": 3,
     "metadata": {},
     "output_type": "execute_result"
    }
   ],
   "source": [
    "# 字符串长度\n",
    "len(a)"
   ]
  },
  {
   "cell_type": "markdown",
   "id": "567e0d6a-498a-4a91-94ac-6c718f6ef375",
   "metadata": {},
   "source": [
    "### 练习\n",
    "\n",
    "下面的代码是否合法？\n",
    "\n",
    "```python\n",
    "age = 10\n",
    "print('His age is ' + age) \n",
    "```"
   ]
  },
  {
   "cell_type": "markdown",
   "id": "2cdd3ac3-e2c9-46a0-8aa3-b005b2004037",
   "metadata": {},
   "source": [
    "### 更多字符串操作\n",
    "\n",
    "- 字符串认为是一串字符，可以使用索引（index）访问，从0开始记数。\n",
    "\n",
    "```python\n",
    ">>> a[0]\n",
    ">>> a[1:3]\n",
    ">>> a[-1]\n",
    "```\n",
    "\n",
    "- 字符串是可以比较大小的。每个字符实际上表示为[Unicode](https://docs.python.org/3/howto/unicode.html)，对于英文字母，也可以认为是[ASCII](https://en.wikipedia.org/wiki/ASCII)码。比如`a`即97，`b`是98；`A`是65，`B`是66。\n",
    "\n",
    "```python\n",
    ">>> ord('a')\n",
    ">>> 'a' < 'b'\n",
    ">>> 'Hello' < 'World'\n",
    ">>> 'abc' < 'abd'\n",
    ">>> 'abc' < 'abcd'\n",
    "```"
   ]
  },
  {
   "cell_type": "markdown",
   "id": "c419ad28-bbe9-491f-8fb1-aa4d488fb4c8",
   "metadata": {},
   "source": [
    "## 1.3 多行字符串\n",
    "\n",
    "如何用Python显示下面的内容？\n",
    "\n",
    "```\n",
    "Beautiful is better than ugly.\n",
    "Explicit is better than implicit.\n",
    "Simple is better than complex.\n",
    "Complex is better than complicated.\n",
    "Flat is better than nested.\n",
    "Sparse is better than dense.\n",
    "Readability counts.\n",
    "Special cases aren't special enough to break the rules.\n",
    "Although practicality beats purity.\n",
    "Errors should never pass silently.\n",
    "Unless explicitly silenced.\n",
    "In the face of ambiguity, refuse the temptation to guess.\n",
    "There should be one-- and preferably only one --obvious way to do it.\n",
    "Although that way may not be obvious at first unless you're Dutch.\n",
    "Now is better than never.\n",
    "Although never is often better than *right* now.\n",
    "If the implementation is hard to explain, it's a bad idea.\n",
    "If the implementation is easy to explain, it may be a good idea.\n",
    "Namespaces are one honking great idea -- let's do more of those!\n",
    "```"
   ]
  },
  {
   "cell_type": "code",
   "execution_count": 4,
   "id": "0d7f0971-32e5-4cfc-8d2d-91c7931c2be4",
   "metadata": {},
   "outputs": [],
   "source": [
    "zen = \"\"\"\n",
    "Beautiful is better than ugly.\n",
    "Explicit is better than implicit.\n",
    "Simple is better than complex.\n",
    "Complex is better than complicated.\n",
    "Flat is better than nested.\n",
    "Sparse is better than dense.\n",
    "Readability counts.\n",
    "Special cases aren't special enough to break the rules.\n",
    "Although practicality beats purity.\n",
    "Errors should never pass silently.\n",
    "Unless explicitly silenced.\n",
    "In the face of ambiguity, refuse the temptation to guess.\n",
    "There should be one-- and preferably only one --obvious way to do it.\n",
    "Although that way may not be obvious at first unless you're Dutch.\n",
    "Now is better than never.\n",
    "Although never is often better than *right* now.\n",
    "If the implementation is hard to explain, it's a bad idea.\n",
    "If the implementation is easy to explain, it may be a good idea.\n",
    "Namespaces are one honking great idea -- let's do more of those!\n",
    "\"\"\""
   ]
  },
  {
   "cell_type": "markdown",
   "id": "8299b31e-2b8b-411c-b213-d1a785648e45",
   "metadata": {},
   "source": [
    "# 2. 输入输出\n",
    "\n",
    "这里指的是标准输入（从键盘）和标准输出（到屏幕）。"
   ]
  },
  {
   "cell_type": "markdown",
   "id": "9741df22-3dcb-4bfe-8ac7-2d77d3927886",
   "metadata": {},
   "source": [
    "## 2.1 输入\n",
    "\n",
    "```python\n",
    "age = input()\n",
    "```"
   ]
  },
  {
   "cell_type": "markdown",
   "id": "1ba4b6d0-f3c8-4a7c-85a3-9e4b87b47a35",
   "metadata": {},
   "source": [
    "### 练习\n",
    "\n",
    "- 此处`age`的类型是什么？\n",
    "- 如果`age`等于65，打印“你可以退休了。”"
   ]
  },
  {
   "cell_type": "markdown",
   "id": "317564fa-2c42-4a38-97d6-f0a536de6584",
   "metadata": {},
   "source": [
    "## 2.2 格式化字符串"
   ]
  },
  {
   "cell_type": "code",
   "execution_count": 5,
   "id": "c245b9d8-af4d-4034-bf2b-76b41f1587bc",
   "metadata": {},
   "outputs": [
    {
     "name": "stdout",
     "output_type": "stream",
     "text": [
      "His age is 10\n"
     ]
    }
   ],
   "source": [
    "age = 10\n",
    "print('His age is', age)"
   ]
  },
  {
   "cell_type": "markdown",
   "id": "24639f7e-673b-4c19-b9ba-9be709cec257",
   "metadata": {},
   "source": [
    "### HELP\n",
    "对于不熟悉的函数，记得查阅文档，或者使用`help`。"
   ]
  },
  {
   "cell_type": "code",
   "execution_count": 6,
   "id": "58d8f72e-b45a-4a15-ad8c-dd01c3ba9d76",
   "metadata": {},
   "outputs": [
    {
     "name": "stdout",
     "output_type": "stream",
     "text": [
      "Help on built-in function print in module builtins:\n",
      "\n",
      "print(...)\n",
      "    print(value, ..., sep=' ', end='\\n', file=sys.stdout, flush=False)\n",
      "    \n",
      "    Prints the values to a stream, or to sys.stdout by default.\n",
      "    Optional keyword arguments:\n",
      "    file:  a file-like object (stream); defaults to the current sys.stdout.\n",
      "    sep:   string inserted between values, default a space.\n",
      "    end:   string appended after the last value, default a newline.\n",
      "    flush: whether to forcibly flush the stream.\n",
      "\n"
     ]
    }
   ],
   "source": [
    "help(print)"
   ]
  },
  {
   "cell_type": "code",
   "execution_count": 7,
   "id": "8b28e4dc-aabb-4edc-86c1-6f3a2df44757",
   "metadata": {},
   "outputs": [
    {
     "name": "stdout",
     "output_type": "stream",
     "text": [
      "His age is 10\n"
     ]
    }
   ],
   "source": [
    "# Python 3.6引入的新语法\n",
    "print(f'His age is {age}')"
   ]
  },
  {
   "cell_type": "markdown",
   "id": "2fa1b72a-3a46-4002-a08f-a44cd0aea164",
   "metadata": {},
   "source": [
    "### 浮点数的格式化输出\n",
    "\n",
    "基本格式为：\n",
    "```\n",
    "{value:{width}.{precision}{type}}\n",
    "```\n",
    "\n",
    "常用的`type`包括：\n",
    "\n",
    "- d：10进制整数（decimal）\n",
    "- f：浮点数（float），默认精度是6\n",
    "- e：浮点数的计数法\n",
    "- g：自动选择f或e\n",
    "\n",
    "参考[FormatSpec](https://docs.python.org/3/library/string.html#formatspec)."
   ]
  },
  {
   "cell_type": "code",
   "execution_count": 8,
   "id": "31ba3002-58e1-4845-98c5-142fe2e5e414",
   "metadata": {},
   "outputs": [
    {
     "name": "stdout",
     "output_type": "stream",
     "text": [
      "3.14\n",
      "3.14\n"
     ]
    }
   ],
   "source": [
    "pi = 3.1415926\n",
    "# 老语法 1\n",
    "print('%.2f' % pi)\n",
    "# 老语法 2\n",
    "print('{:.2f}'.format(pi))"
   ]
  },
  {
   "cell_type": "code",
   "execution_count": 9,
   "id": "f85f66fa-feba-46b3-9c30-cb97acc179a0",
   "metadata": {},
   "outputs": [
    {
     "name": "stdout",
     "output_type": "stream",
     "text": [
      "3.14\n"
     ]
    }
   ],
   "source": [
    "# 新语法\n",
    "print(f'{pi:.2f}')"
   ]
  },
  {
   "cell_type": "markdown",
   "id": "d3a2ce43-6c0c-4b43-882e-6d64def60e59",
   "metadata": {},
   "source": [
    "### 课后练习\n",
    "假设本金为10.00，年利率为1%。已知年份最大宽度为3，金额保留2位小数，最大宽度为8。请按下面的格式输出第0、10和100年的本息和。\n",
    "\n",
    "```\n",
    "  0|    10.00\n",
    " 10|    25.94\n",
    "100|137806.12\n",
    "```"
   ]
  },
  {
   "cell_type": "markdown",
   "id": "6fed97ca-2847-46e4-865a-5019db2f5b78",
   "metadata": {},
   "source": [
    "# 3. 循环（loop）与迭代（iteration）\n",
    "\n",
    "程序设计的一个重要思想是：**Don't Repeat Youself**。如果你发现代码有重复，这往往意味着需要重构（refactor）。重构的一个简单思路就是利用循环结构或迭代。\n",
    "\n",
    "> the action or a process of iterating or repeating: such as\n",
    ">   -  a procedure in which repetition of a sequence of operations yields results successively closer to a desired result\n",
    ">   -  the repetition of a sequence of computer instructions a specified number of times or until a condition is met "
   ]
  },
  {
   "cell_type": "markdown",
   "id": "09014afe-fe10-4959-bb7d-c14e4ac17d5e",
   "metadata": {},
   "source": [
    "## 3.1 while结构\n",
    "\n",
    "考虑计算1 + 2 + 3 + ... + 100。它可以表述为：初始化和为0，每次迭代加上变量`i`（从1开始递增**直到**100）。\n",
    "\n",
    "基本结构：\n",
    "\n",
    "```python\n",
    "while <some_condition>:\n",
    "    <loop_body>\n",
    "```\n",
    "\n",
    "当`some_condition`满足时，就执行`loop_body`，并重复进行。不能是无效循环，所以一般需要修改`some_condition`的状态。"
   ]
  },
  {
   "cell_type": "code",
   "execution_count": 2,
   "id": "5e09dce5-4b1e-4ee5-bae6-2038bc837166",
   "metadata": {},
   "outputs": [
    {
     "name": "stdout",
     "output_type": "stream",
     "text": [
      "5050\n"
     ]
    }
   ],
   "source": [
    "i = 1\n",
    "s = 0\n",
    "while i <= 100:\n",
    "    s += i\n",
    "    i += 1\n",
    "print(s)"
   ]
  },
  {
   "cell_type": "markdown",
   "id": "adb3fa98-7b71-4589-bed9-5ab67cc7ede9",
   "metadata": {},
   "source": [
    "### 练习\n",
    "- 给定一个正整数`x`，如果能找到另外一个正整数`y`是它的立方根，则输出“x的立方根是y”，否则输出“找不到x的整数立方根”。比如27的整数立方根是3，而26没有整数立方根。\n",
    "- 给定一个正整数（如54321），输出它的反转值（12345）。要求**不能**使用字符串。"
   ]
  },
  {
   "cell_type": "markdown",
   "id": "ade98927-9925-43e4-876d-0dd49cb694da",
   "metadata": {},
   "source": [
    "### break和continue\n",
    "\n",
    "> break表示跳出循环结构，提前结束。\n",
    "\n",
    "下面代码的含义是什么？\n",
    "\n",
    "```python\n",
    "i = 0\n",
    "sum = 0\n",
    "while True:\n",
    "    i += 1\n",
    "    sum += i\n",
    "    if sum >= 1000:\n",
    "        break\n",
    "print(i)\n",
    "```\n",
    "\n",
    "> continue表示直接进入下一次循环，而跳过循环体内的剩余代码\n",
    "\n",
    "```python\n",
    "i = 0\n",
    "sum = 0\n",
    "while i <= 100:\n",
    "    i += 1\n",
    "    if i % 9 == 0:\n",
    "        continue\n",
    "    sum += i\n",
    "print(i)\n",
    "```"
   ]
  },
  {
   "cell_type": "markdown",
   "id": "519a3e54-b9a2-461b-955e-2c4924612359",
   "metadata": {},
   "source": [
    "#### 使用`while True`实现整数立方根的计算\n",
    "```python\n",
    "num = int(input(\"Input an integer:\"))\n",
    "cube_root = 0\n",
    "while True:\n",
    "    if cube_root**3 >= num:\n",
    "        break\n",
    "    cube_root += 1\n",
    "if cube_root**3 == num:\n",
    "    print(f\"{num}的整数立方根是{cube_root}\")\n",
    "else:\n",
    "    print(f\"{num}没有整数立方根\")\n",
    "```\n",
    "\n",
    "思考：如果输入的整数可能为负，请改写上面的程序。"
   ]
  },
  {
   "cell_type": "markdown",
   "id": "8d165e8c-d75e-4e40-9f4d-d75e8838f5e3",
   "metadata": {},
   "source": [
    "#### 练习\n",
    "假设某超市的扫码计费系统每次需要扫到`000`才能进行本次价格求和。运行案例：\n",
    "\n",
    "```\n",
    "Enter the price of the scanned item (enter \"000\" to finish): 10.50\n",
    "Enter the price of the scanned item (enter \"000\" to finish): 5.25\n",
    "Enter the price of the scanned item (enter \"000\" to finish): 8.75\n",
    "Enter the price of the scanned item (enter \"000\" to finish): 000\n",
    "Total price: 24.5\n",
    "```\n",
    "\n",
    "请使用`break`实现。"
   ]
  },
  {
   "cell_type": "markdown",
   "id": "e4fb8aad-4e06-4558-9c86-1912d51826f3",
   "metadata": {},
   "source": [
    "## 3.2 迭代"
   ]
  },
  {
   "cell_type": "code",
   "execution_count": 11,
   "id": "a29b7e03-f54b-4450-86d3-515561df3c7c",
   "metadata": {},
   "outputs": [
    {
     "name": "stdout",
     "output_type": "stream",
     "text": [
      "S\n",
      "W\n",
      "U\n",
      "F\n",
      "E\n"
     ]
    }
   ],
   "source": [
    "# 字符串是可迭代的（iterable）\n",
    "s = 'SWUFE'\n",
    "for c in s:\n",
    "    print(c)"
   ]
  },
  {
   "cell_type": "code",
   "execution_count": 12,
   "id": "6d796368-198f-46e8-bff5-ad1bcb798387",
   "metadata": {},
   "outputs": [
    {
     "name": "stdout",
     "output_type": "stream",
     "text": [
      "S\n",
      "W\n",
      "U\n",
      "F\n",
      "E\n"
     ]
    }
   ],
   "source": [
    "# 如果使用while结构\n",
    "i = 0\n",
    "while i < len(s):\n",
    "    print(s[i])\n",
    "    i += 1"
   ]
  },
  {
   "cell_type": "markdown",
   "id": "67ac745c-b627-4600-8d36-2056b2cccf0c",
   "metadata": {},
   "source": [
    "### 练习\n",
    "\n",
    "- 给定字符串`CBANBAWTO`（假设都是大写字母），输出第一个在字母`U`之后的字母。\n",
    "- 给定字符串`SWUFE`，请按下面格式输出：\n",
    "\n",
    "```\n",
    "0 S\n",
    "1 W\n",
    "2 U\n",
    "3 F\n",
    "4 E\n",
    "```"
   ]
  },
  {
   "cell_type": "markdown",
   "id": "ccf2446d-3374-401c-90f0-0f1736562793",
   "metadata": {},
   "source": [
    "### range\n",
    "`range`方法可以方便地生成一个范围，是一个常用的可迭代对象。"
   ]
  },
  {
   "cell_type": "code",
   "execution_count": 13,
   "id": "71ab926a-ad76-4c3e-b475-57420c8b4873",
   "metadata": {},
   "outputs": [
    {
     "name": "stdout",
     "output_type": "stream",
     "text": [
      "0\n",
      "1\n",
      "2\n",
      "3\n",
      "4\n",
      "5\n",
      "6\n",
      "7\n",
      "8\n",
      "9\n"
     ]
    }
   ],
   "source": [
    "for i in range(10):\n",
    "    print(i)"
   ]
  },
  {
   "cell_type": "markdown",
   "id": "79ba98dc-bb0a-4392-a807-1710631ace57",
   "metadata": {},
   "source": [
    "### 练习\n",
    "- 分别使用`for`和`while`输出`[0, 10]`之间偶数。\n",
    "- 用`for`实现上面计算整数立方根。\n",
    "```"
   ]
  },
  {
   "cell_type": "markdown",
   "id": "968dd7c6-df35-477c-b27e-f79e007e4f8d",
   "metadata": {},
   "source": [
    "## 3.3 for、while与else\n",
    "在Python中，循环结构可以和`else`一起使用。但该语法现象在其他编程语言中很少见，会降低程序的可读性，因此不建议使用。\n",
    "\n",
    "```python\n",
    "for n in range(2, 10):\n",
    "    for x in range(2, n):\n",
    "        if n % x == 0:\n",
    "            print(n, 'equals', x, '*', n//x)\n",
    "            break\n",
    "    else:\n",
    "        # loop fell through without finding a factor\n",
    "        print(n, 'is a prime number')\n",
    "```\n",
    "\n",
    "-------\n",
    "\n",
    "```python\n",
    "num = 0\n",
    "while num < 5:\n",
    "    print(num)\n",
    "    num += 1\n",
    "else:\n",
    "    print(\"Loop finished\")\n",
    "```"
   ]
  },
  {
   "cell_type": "markdown",
   "id": "c8075b6d-2186-4ed3-8ae8-04c865d49cfe",
   "metadata": {},
   "source": [
    "# 4. 字符串操作（续）"
   ]
  },
  {
   "cell_type": "markdown",
   "id": "0dc9ec28-2beb-4f72-b049-316ea9f20436",
   "metadata": {},
   "source": [
    "- 拼接\n",
    "- 格式化\n",
    "- 长度\n",
    "- 索引\n",
    "\n",
    "完整的关于字符串性格操作参考[str](https://docs.python.org/3/library/stdtypes.html#str)。"
   ]
  },
  {
   "cell_type": "code",
   "execution_count": 14,
   "id": "d9233488-7294-43cb-b5f1-34c69772c2cc",
   "metadata": {},
   "outputs": [
    {
     "data": {
      "text/plain": [
       "False"
      ]
     },
     "execution_count": 14,
     "metadata": {},
     "output_type": "execute_result"
    }
   ],
   "source": [
    "a = 'hello SWUFE'\n",
    "'SW' in a\n",
    "'WU' not in a"
   ]
  },
  {
   "cell_type": "code",
   "execution_count": 15,
   "id": "82e23ed2-df9c-4144-856a-dee63cee3ee6",
   "metadata": {},
   "outputs": [
    {
     "data": {
      "text/plain": [
       "'HELLO SWUFE'"
      ]
     },
     "execution_count": 15,
     "metadata": {},
     "output_type": "execute_result"
    }
   ],
   "source": [
    "a.upper()"
   ]
  },
  {
   "cell_type": "code",
   "execution_count": 16,
   "id": "7836ffcf-3835-4d33-a393-0523ec573c24",
   "metadata": {},
   "outputs": [
    {
     "data": {
      "text/plain": [
       "'hello swufe'"
      ]
     },
     "execution_count": 16,
     "metadata": {},
     "output_type": "execute_result"
    }
   ],
   "source": [
    "a.lower()"
   ]
  },
  {
   "cell_type": "code",
   "execution_count": 17,
   "id": "42f9a71d-76c2-4b97-b825-2e18644ed717",
   "metadata": {},
   "outputs": [
    {
     "data": {
      "text/plain": [
       "False"
      ]
     },
     "execution_count": 17,
     "metadata": {},
     "output_type": "execute_result"
    }
   ],
   "source": [
    "a.islower()"
   ]
  },
  {
   "cell_type": "code",
   "execution_count": 18,
   "id": "0ec9ce3b-86be-43a7-89be-15a650bca1b4",
   "metadata": {},
   "outputs": [
    {
     "data": {
      "text/plain": [
       "False"
      ]
     },
     "execution_count": 18,
     "metadata": {},
     "output_type": "execute_result"
    }
   ],
   "source": [
    "a.isupper()"
   ]
  },
  {
   "cell_type": "markdown",
   "id": "27092acd-f324-4395-a0d9-e8e5823a9279",
   "metadata": {},
   "source": [
    "还有很多以`is`开头的字符串方法，比如`isalpha()`，`isdecimal()`和`isspace()`。"
   ]
  },
  {
   "cell_type": "markdown",
   "id": "ee093ef0-6bc0-4828-b81c-63547e705f11",
   "metadata": {},
   "source": [
    "## startswith()和endswith() "
   ]
  },
  {
   "cell_type": "code",
   "execution_count": 19,
   "id": "12ccaf7e-a649-46ad-b309-954c00aa5de9",
   "metadata": {},
   "outputs": [
    {
     "data": {
      "text/plain": [
       "True"
      ]
     },
     "execution_count": 19,
     "metadata": {},
     "output_type": "execute_result"
    }
   ],
   "source": [
    "url = 'https://www.swufe.edu.cn'\n",
    "url.startswith('https')"
   ]
  },
  {
   "cell_type": "code",
   "execution_count": 20,
   "id": "06b249c4-ef1f-4783-9f67-50f6fd1e2a2d",
   "metadata": {},
   "outputs": [
    {
     "data": {
      "text/plain": [
       "True"
      ]
     },
     "execution_count": 20,
     "metadata": {},
     "output_type": "execute_result"
    }
   ],
   "source": [
    "file_name = 'example.py'\n",
    "file_name.endswith('py')"
   ]
  },
  {
   "cell_type": "markdown",
   "id": "9bba6cb3-e974-4a2d-83c4-cfa1c49445eb",
   "metadata": {},
   "source": [
    "## split()"
   ]
  },
  {
   "cell_type": "code",
   "execution_count": 21,
   "id": "81baf333-afc2-4cd2-a4fc-db541a092bfc",
   "metadata": {},
   "outputs": [
    {
     "data": {
      "text/plain": [
       "['中国', '美国', '英国']"
      ]
     },
     "execution_count": 21,
     "metadata": {},
     "output_type": "execute_result"
    }
   ],
   "source": [
    "'中国，美国，英国'.split('，')"
   ]
  },
  {
   "cell_type": "markdown",
   "id": "4428a0ce-98ed-439c-811f-2cda84d42dbd",
   "metadata": {},
   "source": [
    "### 练习\n",
    "```python\n",
    "swufe_intro = '''西南财经大学是教育部直属的国家“211工程”和“985工程”优势学科创新平台建设的全国重点大学，也是国家“双一流”建设高校。\n",
    "学校地处国家历史文化名城、南方丝绸之路的起点、素有“天府之国”美誉的成都，有光华、柳林两校区，总占地2300余亩。光华铁树穿越年轮时光感受历史缅怀先贤,巍巍钟楼傲然屹立感受青春与未来对话,这里古今融通、传统与现代交相辉映，实乃读书治学的理想园地。\n",
    "学校始于1925年在上海创立的光华大学。1938年，因抗战西迁建立光华大学成都分部；1952-1953年汇聚西南地区17所院校的财经系科组建四川财经学院,这是建国初期国家按大区布局的四所本科财经院校之一，也是西南地区唯一的综合性高等财经学府;1960年后历经分设、合并、更名等，于1978年恢复为四川财经学院；1979年由四川省划归中国人民银行主管，逐渐形成了学校独特的金融行业背景和出色的金融学科优势；1985年更名为西南财经大学，1997年成为国家“211工程”重点建设高校，2000年以独立建制划转教育部管理，2011年成为国家“985工程”优势学科创新平台建设高校。90余年的办学历史形成了自己独特的办学特色、文化传统、精神内涵和社会声誉。\n",
    "黄浦浣花风雨长，光华柳林谱华章。学校始终与国家民族共命运，格致诚正，兴学报国；始终与时代发展同进步，经世济民，励精图强，在国家经济腾飞中写下了隽永篇章。\n",
    "'''\n",
    "print(swufe_intro.split()[0])\n",
    "```"
   ]
  },
  {
   "cell_type": "markdown",
   "id": "f4db9697-0cb6-4979-a937-7d0f33ba431d",
   "metadata": {},
   "source": [
    "## join()\n",
    "与`split()`相对的是`join()`：\n",
    "\n",
    "```python\n",
    "','.join(('中国', '美国', '英国'))\n",
    "','.join(['中国', '美国', '英国'])\n",
    "```"
   ]
  },
  {
   "cell_type": "markdown",
   "id": "61c6cc56-c889-4510-ba26-be2c606e9369",
   "metadata": {},
   "source": [
    "## strip()\n",
    "有时候要删除字符串左边、右边或两边的空白字符（空格、制表符和换行符）。\n",
    "* ``strip()``字符串方法将返回一个新的字符串，它的开头或末尾都没有空白字符。\n",
    "* ``lstrip()``方法将相应删除左边的空白字符。\n",
    "* ``rstrip()``方法将相应删除右边的空白字符。\n",
    "\n",
    "```python\n",
    "a = '   hello world '\n",
    "a.strip()\n",
    "```"
   ]
  },
  {
   "cell_type": "markdown",
   "id": "72de5ae8-7301-4680-8039-c9b1211a4db7",
   "metadata": {},
   "source": [
    "## replace()\n",
    "\n",
    "```python\n",
    "a = '(中国,美国,英国)'\n",
    "a.replace(',', '，')\n",
    "```"
   ]
  },
  {
   "cell_type": "markdown",
   "id": "9831befa-f1e4-4185-b843-432fc3676287",
   "metadata": {},
   "source": [
    "## 练习\n",
    "假设某系统在登录时用户名不区分大小写，且会忽略用户名前后的空白字符。请补全下面的代码。\n",
    "\n",
    "```python\n",
    "user, pswd = 'admin', 'password'\n",
    "input_name = input('Name: ')\n",
    "input_name = input('Password: ')\n",
    "if _______:\n",
    "    print('Success!')\n",
    "else:\n",
    "    print('Error!')\n",
    "```"
   ]
  }
 ],
 "metadata": {
  "kernelspec": {
   "display_name": "Python 3 (ipykernel)",
   "language": "python",
   "name": "python3"
  },
  "language_info": {
   "codemirror_mode": {
    "name": "ipython",
    "version": 3
   },
   "file_extension": ".py",
   "mimetype": "text/x-python",
   "name": "python",
   "nbconvert_exporter": "python",
   "pygments_lexer": "ipython3",
   "version": "3.10.12"
  }
 },
 "nbformat": 4,
 "nbformat_minor": 5
}
