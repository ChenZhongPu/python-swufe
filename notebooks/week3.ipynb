{
 "cells": [
  {
   "cell_type": "markdown",
   "id": "ea0ff71f-2642-4820-9946-5ab36035eba0",
   "metadata": {},
   "source": [
    "# 复习\n",
    "- 字符串\n",
    "- 迭代、循环"
   ]
  },
  {
   "cell_type": "markdown",
   "id": "6357b8d8-a56f-4d9c-a444-a34150b861d9",
   "metadata": {},
   "source": [
    "# Quiz\n",
    "下面程序的结果是什么？\n",
    "\n",
    "```python\n",
    "sum = 0.0\n",
    "for i in range(0, 10):\n",
    "    sum += 0.1\n",
    "print(sum)\n",
    "\n",
    "print(0.3 * 3)\n",
    "```\n",
    "\n",
    "参考[Floating Point Arithmetic: Issues and Limitations](https://docs.python.org/3/tutorial/floatingpoint.html)。"
   ]
  },
  {
   "cell_type": "markdown",
   "id": "f368ed08-2f5c-4c7a-9e3a-cc59cb852dc4",
   "metadata": {},
   "source": [
    "# 函数（function）\n",
    "\n",
    "> 程序是由一系列定义和操作组成的。\n",
    "\n",
    "操作一般是通过函数完成的。Python提供了很多内建（built-in）函数，我们也可以自行定义并调用函数。\n",
    "\n",
    "```python\n",
    "def add(a, b):\n",
    "    return a + b\n",
    "```\n",
    "\n",
    "几个关键概念：\n",
    "\n",
    "- 函数名\n",
    "- 参数（parameter）\n",
    "- 返回值"
   ]
  },
  {
   "cell_type": "markdown",
   "id": "86e127e9-ae08-4abe-a242-fcd02007e8b2",
   "metadata": {},
   "source": [
    "## 抽象\n",
    "\n",
    "思考：对于简单的`1 + 2`，你知道在CPU计算它时电路是如何运作的吗？\n",
    "\n",
    "> 在解决复杂问题的过程中，**抽象**是简化问题的关键步骤。函数是定义抽象的一种常用的方式。\n",
    "\n",
    "### 抽象无处不在\n",
    "\n",
    "比如`print(\"hello world\")`，我们实际上不需要关心它是如何将该字符串载入内存，又是如何从内存读取该数据并在终端显示，我们只需要“用”它即可。\n",
    "\n",
    "----\n",
    "\n",
    "前面提到如何计算一个整数的整数立方根。我们可以进一步将它定义成函数：\n",
    "\n",
    "```python\n",
    "def has_cube_root(x):\n",
    "    cube_root = 0\n",
    "    while True:\n",
    "        if cube_root**3 >= abs(x):\n",
    "            break\n",
    "        cube_root += 1\n",
    "    if cube_root**3 == abs(x):\n",
    "        return True\n",
    "    else:\n",
    "        return False\n",
    "```\n",
    "\n",
    "> It is a good practice to define functions with returning values. (pure function)"
   ]
  },
  {
   "cell_type": "markdown",
   "id": "db2672b0-ef52-439a-9cb1-609cbdff3738",
   "metadata": {},
   "source": [
    "## 类型提示\n",
    "\n",
    "Python是动态类型的语言，属于鸭子类型（duck typing）系统。对于大型项目，推荐使用类型提示（type hint）或类型注解（type annotation），方便方便`pyright`和`mypy`等工具进行类型检查，从而在运行前就能发现潜在的错误。\n",
    "\n",
    "> If it walks like a duck and it quacks like a duck, then it must be a duck."
   ]
  },
  {
   "cell_type": "code",
   "execution_count": 1,
   "id": "13503f1f-1aab-4e66-938c-fa9a50c4456f",
   "metadata": {},
   "outputs": [],
   "source": [
    "def add(a: int, b: int) -> int:\n",
    "    \"\"\"这个函数用于加法运算\"\"\"\n",
    "    return a + b\n",
    "\n",
    "result = add(1, 3)"
   ]
  },
  {
   "cell_type": "markdown",
   "id": "682a0692-1be4-438f-ac20-9215a6461f59",
   "metadata": {},
   "source": [
    "## 练习\n",
    "我们设计新的程序来解决上面问题。主要思路如下：\n",
    "\n",
    "- 直接计算该整数的立方根（是浮点数）\n",
    "- 如果该浮点数是整数，那么说明找到了其整数立方根，否则就没有。\n",
    "\n",
    "> Don't reinvent wheels."
   ]
  },
  {
   "cell_type": "markdown",
   "id": "2784cdd4-1476-4d6f-af6e-93f123ab0c3d",
   "metadata": {},
   "source": [
    "## 函数是一等公民\n",
    "函数可以嵌套（nesting）：\n",
    "\n",
    "```python\n",
    "def create_adder(x):\n",
    "   def _adder(y):\n",
    "       return x + y\n",
    "   return _adder\n",
    "\n",
    "add2 = create_adder(2)\n",
    "add100 = create_adder(100)\n",
    "```\n",
    "\n",
    "函数也可以作为参数和返回值。"
   ]
  },
  {
   "cell_type": "markdown",
   "id": "f85d3155-14e4-4b5c-97f5-7fd5e0ae10b6",
   "metadata": {},
   "source": [
    "# 模块（module）\n",
    "\n",
    "模块是第三方专门为了解决某些特定问题而编写的工具。Python本身自带了一些常用的模块，例如，`math`模块中具有较为复杂的求解正弦、余弦和平方根等运算，这些模块不需要安装，但是在使用前需要导入。\n",
    "\n",
    "模块使得Python具备高度的**可扩展性**，并体现了**封装性**。"
   ]
  },
  {
   "cell_type": "markdown",
   "id": "208de143-5a88-4aa0-a3e1-e8ca2f4617a0",
   "metadata": {},
   "source": [
    "## 引入模块\n",
    "\n",
    "- 引入整个模块\n",
    "\n",
    "```python\n",
    "import math\n",
    "\n",
    "math.sqrt(2)\n",
    "math.log(10) # 使用自然对数\n",
    "math.e\n",
    "math.pi\n",
    "math.sin(math.pi / 2) # 参数是弧度\n",
    "math.sin(math.pi * 30 / 180) \n",
    "```\n",
    "\n",
    "- 引入模块中某个类/函数\n",
    "\n",
    "```python\n",
    "from math import sqrt\n",
    "\n",
    "sqrt(2)\n",
    "```\n",
    "\n",
    "- 对模块进行取别名\n",
    "\n",
    "```python\n",
    "# 这是第三方包，需要单独安装：pip install numpy\n",
    "from numpy as np\n",
    "```"
   ]
  },
  {
   "cell_type": "markdown",
   "id": "7d2cd686-2e3a-41e8-b9cd-8df2fc972888",
   "metadata": {},
   "source": [
    "> 引入整个包对程序的性能并没有显著影响。参考[Is it more efficient to use \"import <module>\" or \"from <module> import <func>\"?](https://stackoverflow.com/questions/346723/is-it-more-efficient-to-use-import-module-or-from-module-import-func)。"
   ]
  },
  {
   "cell_type": "markdown",
   "id": "ea38eba1-8288-403f-b1c9-f2a53b2d65f5",
   "metadata": {},
   "source": [
    "### 练习\n",
    "- 定义一个函数，接收三个参数，分别表示一元二次方程的$ax^2 + bx + c = 0$中的`a`、`b`和`c`，并假设$a$不为0，返回方程的其中一个实数根。\n",
    "\n",
    "  $$x_{1,2} = \\frac{-b \\pm \\sqrt{b^2 - 4ac}}{2a}$$\n",
    "\n",
    "- 思考：如何同时返回两个根？\n",
    "\n",
    "```python\n",
    "def min_max(a, b, c):\n",
    "    return min(a, b, c), max(a, b, c)\n",
    "```"
   ]
  },
  {
   "cell_type": "markdown",
   "id": "2a3c1274-289c-40bc-8eb3-5c0c581f2f83",
   "metadata": {},
   "source": [
    "## 使用模块案例\n",
    "前面提到了计算立方根的两个方法，那么哪种方法更快呢？在理论分析之前，我们可以使用Python中的`timeit`进行计时。参考[timeit](https://docs.python.org/3/library/timeit.html)。\n",
    "\n",
    "```python\n",
    "import timeit\n",
    "# 默认运行100万次\n",
    "timeit.timeit(setup='from __main__ import has_cube_root', stmt='has_cube_root(3000)')\n",
    "```"
   ]
  },
  {
   "cell_type": "markdown",
   "id": "ff3ccf11-30e6-496e-9c17-0d109aced614",
   "metadata": {},
   "source": [
    "# 函数（续）\n",
    "## 关键词参数和默认参数\n",
    "\n",
    "```python\n",
    "def print_time(year, month, day, isUS):\n",
    "    if isUS:\n",
    "        print(f\"{month}-{day}-{year}\")\n",
    "    else:\n",
    "        print(f\"{year}-{month}-{day}\")\n",
    "```\n",
    "\n",
    "传统的编程语言一般仅支持**位置参数**（positional arguments），而Python也支持**关键字参数**（keyword argument，命名参数）。它可以极大地提高代码的可读性：\n",
    "\n",
    "```python\n",
    "print_time(2008, 8, 8, False)\n",
    "print_time(year=2008, month=8, day=8, isUS=False)\n",
    "print_time(isUS=True, year=2008, month=8, day=8)\n",
    "# 如果混合了位置参数和关键字参数，那么位置参数必须在前面。\n",
    "print_time(2008, month=8, day=8, isUS=False)\n",
    "```"
   ]
  },
  {
   "cell_type": "markdown",
   "id": "7d720cab-4835-451e-bd4d-d337911c16f4",
   "metadata": {},
   "source": [
    "### 默认参数\n",
    "```python\n",
    "def print_time(year, month, day, isUS=True):\n",
    "    if isUS:\n",
    "        print(f\"{month}-{day}-{year}\")\n",
    "    else:\n",
    "        print(f\"{year}-{month}-{day}\")\n",
    "```\n",
    "\n",
    "Python还支持默认参数（default argument）；**默认参数必须在参数列表的最后面**。\n",
    "\n",
    "```python\n",
    "print_time(2008, 8, 8, False)\n",
    "print_time(2008, 8, 8)\n",
    "print_time(year=2008, month=8, day=8, isUS=True)\n",
    "print_time(year=2008, month=8, day=8)\n",
    "```"
   ]
  },
  {
   "cell_type": "markdown",
   "id": "842e3660-f1d3-487f-b8d1-536f4aeae204",
   "metadata": {},
   "source": [
    "### 思考探索\n",
    "请查阅资料，理解下面函数定义的含义:\n",
    "\n",
    "```python\n",
    "def query_users(limit, offset, *, min_followers_count, include_profile):\n",
    "    pass\n",
    "```\n",
    "\n",
    "```python\n",
    "# Python 3.8引入的\n",
    "def query_users(limit, offset, /, min_followers_count, include_profile):\n",
    "    pass\n",
    "```"
   ]
  },
  {
   "cell_type": "markdown",
   "id": "c49aa4d0-9256-4cfb-afc2-bbe98a903cae",
   "metadata": {},
   "source": [
    "## 作用域（scope）\n",
    "\n",
    "测试下面代码的运行结果：\n",
    "\n",
    "```python\n",
    "i = 8\n",
    "def foo():\n",
    "    print(i)\n",
    "    i = 9\n",
    "    print(i)\n",
    "foo()\n",
    "print(i)\n",
    "```\n",
    "\n",
    "```python\n",
    "i = 8\n",
    "def foo():\n",
    "    i = 9\n",
    "    # print(j)\n",
    "    j = 6\n",
    "    print(i)\n",
    "foo()\n",
    "print(i)\n",
    "# print(j)\n",
    "```\n",
    "\n",
    "作用域可以理解成命名空间（name space）。前面提到，变量就是一个名字而已。因此，关键问题就是“如何找到对应的名字”？\n",
    "\n",
    "> 与其他编程语言不同的是，`if`、`while`和`for`并没有引入新的作用域。"
   ]
  },
  {
   "cell_type": "markdown",
   "id": "51a03509-fe87-4d23-a7e2-308cd13a4da8",
   "metadata": {},
   "source": [
    "### 访问变量的基本规则\n",
    "\n",
    "> 在符号表（symbol table）搜索名字是（也只能）**向外**（局部 → 全局 → 内建）进行的。\n",
    "\n",
    "因此，函数内部的局部（local）作用域对外不可见。换言之，全局（global）作用域的代码无法访问局部作用域。\n",
    "\n",
    "```python\n",
    "def foo():\n",
    "    x = 1\n",
    "    def bar():\n",
    "        print(x)\n",
    "    bar()\n",
    "foo()    \n",
    "```"
   ]
  },
  {
   "cell_type": "markdown",
   "id": "c2acbc4c-4abb-46ac-8668-caf2650a1962",
   "metadata": {},
   "source": [
    "### 练习\n",
    "\n",
    "下面的代码正确吗？\n",
    "\n",
    "```python\n",
    "def foo():\n",
    "    print(x)\n",
    "    def bar():\n",
    "        x = 1\n",
    "    bar()\n",
    "foo()    \n",
    "```\n",
    "\n",
    "----\n",
    "\n",
    "```python\n",
    "x = 42\n",
    "\n",
    "def foo():\n",
    "    x += 42\n",
    "```\n",
    "\n",
    "> Internally, Python assumes that any name directly assigned within a function is local to that function. Therefore, the local name, number , shadows its global sibling. In this sense, global variables behave as read-only names. You can access their values, but you can't modify them. 参考[Using and Creating Global Variables in Your Python Functions](https://realpython.com/python-use-global-variable-in-function/)。"
   ]
  },
  {
   "cell_type": "markdown",
   "id": "1cf62fd3-b496-4df5-938e-da3aaf7c6ee2",
   "metadata": {},
   "source": [
    "### global和nonlocal\n",
    "\n",
    "尽管`global`和`nonlocal`等关键词能够实现修改，但是一般不推荐使用，因为这会破坏程序的封装性，使得代码变得不可读。\n",
    "\n",
    "```python\n",
    "x = 42\n",
    "def foo():\n",
    "    global x\n",
    "    x += 42\n",
    "```\n",
    "\n",
    "----\n",
    "\n",
    "```python\n",
    "def outer_function():\n",
    "    x = 10\n",
    "\n",
    "    def inner_function():\n",
    "        nonlocal x\n",
    "        x = 20\n",
    "        print(\"Inner function:\", x)\n",
    "\n",
    "    inner_function()\n",
    "    print(\"Outer function:\", x)\n",
    "\n",
    "\n",
    "outer_function()\n",
    "```"
   ]
  },
  {
   "cell_type": "markdown",
   "id": "e97d87fe-d370-487f-b467-da1802b645da",
   "metadata": {},
   "source": [
    "## 参数传递（argument passing）\n",
    "\n",
    "```python\n",
    "def foo(x):\n",
    "    x += 1\n",
    "x = 5\n",
    "foo(x)\n",
    "print(x)\n",
    "```\n",
    "\n",
    "> Call by `object reference`\n",
    "\n",
    "![call by object reference](../images/call-by-object-ref.png)"
   ]
  },
  {
   "cell_type": "markdown",
   "id": "2e51a3a5-b3c0-4716-80bd-a999380bfe67",
   "metadata": {},
   "source": [
    "### 不可变对象（immutable objects）\n",
    "整数、字符串、元组等都是不可变对象。"
   ]
  },
  {
   "cell_type": "markdown",
   "id": "ba4cc9c4-f4f8-40c9-a4f4-d1e82d69c388",
   "metadata": {},
   "source": [
    "### 查看内存地址\n",
    "\n",
    "```python\n",
    "def foo(x):\n",
    "    print(\"inner x: \", id(x))\n",
    "    x += 1\n",
    "    print(\"inner x+1: \", id(x))\n",
    "\n",
    "\n",
    "x = 5\n",
    "print(\"outter x: \", id(x))\n",
    "foo(x)\n",
    "```"
   ]
  },
  {
   "cell_type": "markdown",
   "id": "3e3ceb40-62fa-450c-8166-2cca43a75c6f",
   "metadata": {},
   "source": [
    "### 练习\n",
    "分析下面程序的结果：\n",
    "\n",
    "```python\n",
    "def f(x):\n",
    "    def g():\n",
    "        x = \"abc\"\n",
    "        print(\"x = \", x)\n",
    "\n",
    "    def h():\n",
    "        z = x\n",
    "        print(\"z = \", z)\n",
    "\n",
    "    x = x + 1\n",
    "    print(\"x = \", x)\n",
    "    h()\n",
    "    g()\n",
    "    print(\"x = \", x)\n",
    "    return g\n",
    "\n",
    "\n",
    "x = 3\n",
    "z = f(x)\n",
    "print(\"x = \", x)\n",
    "print(\"z = \", z)\n",
    "print(z())\n",
    "```"
   ]
  },
  {
   "cell_type": "markdown",
   "id": "94d08f4b-403c-4ded-9b05-8b300e4d9a4d",
   "metadata": {},
   "source": [
    "## 再谈命名\n",
    "习惯上，使用`lowercase_with_underscores`的规范对函数进行命名（也称**snake_case**）。更具体的，PEP8有如下约定：\n",
    "\n",
    "- 对于普通变量，使用蛇形命名法，比如 `max_value`；\n",
    "- 对于常量，采用全大写字母，使用下划线连接，比如 `MAX_VALUE`；\n",
    "- 如果变量标记为“仅内部使用”，为其增加下划线前缀，比如 `_local_var`；\n",
    "- 当名字与 Python 关键字冲突时，在变量末尾追加下划线，比如 `class_`。"
   ]
  },
  {
   "cell_type": "markdown",
   "id": "5bc3df1d-69ad-4da6-8dcc-cce1c01eab3f",
   "metadata": {},
   "source": [
    "### 描述性要强\n",
    "```python\n",
    "def process(email):\n",
    "    full_domain = email.split('@')[-1]\n",
    "    domain = full_domain.split('.')[0]\n",
    "    return domain\n",
    "\n",
    "process('zpchen@swufe.edu.cn')\n",
    "```\n",
    "\n",
    "类似`process`, `compute`等作为方法名不够好。类似的，`tmp`，`data`等作为变量名也不够贴切。"
   ]
  },
  {
   "cell_type": "markdown",
   "id": "b7a3ca5b-5a64-436f-b2bf-2737a3c4c69f",
   "metadata": {},
   "source": [
    "### 练习\n",
    "- 理解下面函数的作用，然后为函数重新取名：\n",
    "\n",
    "```python\n",
    "def compute(x):\n",
    "    for i in range(2, x):\n",
    "        if x % i == 0:\n",
    "            return False\n",
    "    return True\n",
    "```\n",
    "\n",
    "- 上面的代码可以改写成下面的形式：\n",
    "\n",
    "```python\n",
    "import math\n",
    "\n",
    "def compute2(x):\n",
    "    for i in range(2, int(math.sqrt(x)) + 1):\n",
    "        if x % i == 0:\n",
    "            return False\n",
    "    return True\n",
    "```\n",
    "\n",
    "请使用`timeit`比较两者在`x`为10007时的运行效率，为缩短总的运行时间，建议将运行次数设置为1000。"
   ]
  }
 ],
 "metadata": {
  "kernelspec": {
   "display_name": "Python 3 (ipykernel)",
   "language": "python",
   "name": "python3"
  },
  "language_info": {
   "codemirror_mode": {
    "name": "ipython",
    "version": 3
   },
   "file_extension": ".py",
   "mimetype": "text/x-python",
   "name": "python",
   "nbconvert_exporter": "python",
   "pygments_lexer": "ipython3",
   "version": "3.10.12"
  }
 },
 "nbformat": 4,
 "nbformat_minor": 5
}
