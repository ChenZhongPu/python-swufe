{
 "cells": [
  {
   "cell_type": "markdown",
   "id": "33c5f4fd-329a-49c5-98fa-0dc81bece10e",
   "metadata": {},
   "source": [
    "# 复习\n",
    "\n",
    "- collection：list，tuple，set，dict\n",
    "- 异常处理"
   ]
  },
  {
   "cell_type": "markdown",
   "id": "757f21ae-4ff0-4df1-b467-0e60cc272f57",
   "metadata": {},
   "source": [
    "# 如何编写多文件Python项目\n",
    "\n",
    "```python\n",
    "import math\n",
    "\n",
    "print(math.sqrt(2))\n",
    "```\n",
    "\n",
    "这里的`math`模块定义在其他文件。那么如何在你的项目中编写多个多个文件呢？\n",
    "\n",
    "---\n",
    "\n",
    "> 实际的大型项目还需要包（[package](https://docs.python.org/3/tutorial/modules.html#packages)）用于组织代码。"
   ]
  },
  {
   "cell_type": "markdown",
   "id": "401fde3c-4f4c-47b5-9077-1f9769ae8a6f",
   "metadata": {},
   "source": [
    "## 例子\n",
    "\n",
    "假设当前目录有两个文件，分别是`compute.py`和`main.py`，其中`compute.py`定义了用于计算的函数，而`main.py`的程序使用`compute.py`中的含义。\n",
    "\n",
    "```python\n",
    "# compute.py 文件\n",
    "import math\n",
    "\n",
    "MAX_SPEED = 120\n",
    "\n",
    "def is_prime(n):\n",
    "    for i in range(2, int(math.sqrt(n)) + 1):\n",
    "        if n % i == 0:\n",
    "            return False\n",
    "        i += 1\n",
    "    return True\n",
    "```\n",
    "\n",
    "----\n",
    "\n",
    "```python\n",
    "# main.py\n",
    "from compute import is_prime, MAX_SPEED\n",
    "\n",
    "def min_time(d):\n",
    "    return (d / MAX_SPEED) * 60\n",
    "\n",
    "n = 17\n",
    "print(is_prime(n))\n",
    "\n",
    "distance = 100\n",
    "print(f'The minimal time is {min_time(distance):.2f} minutes')\n",
    "```"
   ]
  },
  {
   "cell_type": "markdown",
   "id": "747bd93f-d016-45f9-9bc8-52c6fb3bf56b",
   "metadata": {},
   "source": [
    "## 模块到底是什么？\n",
    "\n",
    "> Python has a way to put definitions in a file and use them in a script or in an interactive instance of the interpreter. Such a file is called a module. 参考[Modules](https://docs.python.org/3/tutorial/modules.html)"
   ]
  },
  {
   "cell_type": "markdown",
   "id": "04fcd366-3af5-4f7b-bd8d-6faa386a7ec1",
   "metadata": {},
   "source": [
    "## 思考\n",
    "如果有第三个文件`test.py`，想要使用`main.py`中的`min_time()`方法，应该如何写？下面的代码是否有问题：\n",
    "\n",
    "```python\n",
    "# test.py\n",
    "\n",
    "import main\n",
    "\n",
    "print(main.min_time(100))\n",
    "print(main.is_prime(17))\n",
    "```"
   ]
  },
  {
   "cell_type": "markdown",
   "id": "7b1f0160-e234-410a-b579-1bceb88c1199",
   "metadata": {},
   "source": [
    "## `if __name__ == \"__main__\"`\n",
    "参考[What Does if __name__ == \"__main__\" Do in Python?](https://realpython.com/if-name-main-python/)\n",
    "\n",
    "> 使得文件中的代码只在作为脚本时运行，而被引入到其他模块时不运行。\n",
    "\n",
    "`__name__`是模块的名字；Python解释器执行的时候，会将主程序对应的模块命名为`__main__`。换言之，`__main__`模块表示当前运行的模块。\n",
    "\n",
    "### 重新理解timeit的用法\n",
    "\n",
    "```python\n",
    "import timeit\n",
    "import math\n",
    "\n",
    "\n",
    "def is_prime(n):\n",
    "    for i in range(2, int(math.sqrt(n)) + 1):\n",
    "        if n % i == 0:\n",
    "            return False\n",
    "        i += 1\n",
    "    return True\n",
    "\n",
    "\n",
    "# 默认运行100万次\n",
    "t = timeit.timeit(setup=\"from __main__ import is_prime\", stmt=\"is_prime(10007)\")\n",
    "```\n",
    "\n",
    "![timeit](../images/timeit.svg)"
   ]
  },
  {
   "cell_type": "markdown",
   "id": "56eb53cf-b5f4-4d2d-883d-76753cb7c693",
   "metadata": {},
   "source": [
    "# 你的代码是正确的吗\n",
    "当你编写完代码之后，如何保障代码是正确的呢？在实践中，**单元测试**（unit test）是个常用的方法，并且还有所谓的测试驱动的开发模式（test-driven-development）。\n",
    "\n",
    "```python\n",
    "# compute.py 文件\n",
    "def is_prime(n):\n",
    "    for i in range(2, int(math.sqrt(n)) + 1):\n",
    "        if n % i == 0:\n",
    "            return False\n",
    "        i += 1\n",
    "    return True\n",
    "```"
   ]
  },
  {
   "cell_type": "markdown",
   "id": "2fe1cf5b-751d-412c-84ea-6f7703447b17",
   "metadata": {},
   "source": [
    "Python中提供了[unittest](https://docs.python.org/3/library/unittest.html)模块，并且还有很多第三方的框架，比如[pytest](https://pypi.org/project/pytest/)。\n",
    "\n",
    "```sh\n",
    "pip install pytest\n",
    "```\n",
    "\n",
    "-----\n",
    "\n",
    "```python\n",
    "# test.py\n",
    "from compute import is_prime\n",
    "\n",
    "# 参考[List of prime numbers](https://en.wikipedia.org/wiki/List_of_prime_numbers)\n",
    "\n",
    "def test_2():\n",
    "    assert is_prime(2) is True\n",
    "\n",
    "\n",
    "def test_even():\n",
    "    assert is_prime(4) is False\n",
    "    assert is_prime(6) is False\n",
    "    assert is_prime(10) is False\n",
    "    assert is_prime(100) is False\n",
    "\n",
    "\n",
    "def test_odd_not_prime():\n",
    "    assert is_prime(15) is False\n",
    "    assert is_prime(21) is False\n",
    "    assert is_prime(81) is False\n",
    "    assert is_prime(1007) is False\n",
    "\n",
    "\n",
    "def test_odd_prime():\n",
    "    assert is_prime(3) is True\n",
    "    assert is_prime(17) is True\n",
    "    assert is_prime(701) is True\n",
    "    assert is_prime(10007) is True\n",
    "```\n",
    "\n",
    "然后，运行：\n",
    "\n",
    "```sh\n",
    "pytest test.py\n",
    "```"
   ]
  },
  {
   "cell_type": "markdown",
   "id": "a7040d0a-e2a6-4016-8b4b-435e86e0e355",
   "metadata": {},
   "source": [
    "## 练习\n",
    "为下面的代码编写单元测试：\n",
    "\n",
    "```python\n",
    "def string_upper(s: str) -> str:\n",
    "    \"\"\"将某个字符串里的所有英文字母由小写转换为大写\"\"\"\n",
    "    chars = []\n",
    "    for ch in s:\n",
    "        # 32 是小写字母与大写字母在 ASCII 码表中的距离\n",
    "        chars.append(chr(ord(ch) - 32))\n",
    "    return ''.join(chars)\n",
    "```"
   ]
  },
  {
   "cell_type": "markdown",
   "id": "5033a13e-fed8-4665-8112-56073716a8ae",
   "metadata": {},
   "source": [
    "# 常用Python工具\n",
    "\n",
    "这里仅介绍[black](https://pypi.org/project/black/)。\n",
    "\n",
    "> The uncompromising code formatter.\n",
    "\n",
    "```sh\n",
    "pip install black\n",
    "```"
   ]
  },
  {
   "cell_type": "markdown",
   "id": "6e38a200-7db8-4c67-92f6-1eb40f0c792f",
   "metadata": {},
   "source": [
    "```python\n",
    "# prime.py\n",
    "import     math\n",
    "def is_prime(n):\n",
    "    for i    in range(2,int( math.sqrt(n))+1):\n",
    "        if n% i== 0 :\n",
    "            return False\n",
    "        i+=1\n",
    "    return   True\n",
    "print(\"is_prime(5)\", is_prime(5))\n",
    "print('is_prime(5)',is_prime(5))\n",
    "```\n",
    "\n",
    "在命令行输入：\n",
    "\n",
    "```sh\n",
    "black prime.py\n",
    "# 或者\n",
    "python3 -m black prime.py\n",
    "```\n",
    "\n",
    "你还可以在编辑器或者IDE中配置`black`，实现保存时自动代码格式化。"
   ]
  },
  {
   "cell_type": "markdown",
   "id": "283e51b4-0e59-4951-9609-6e610fb8d7d3",
   "metadata": {},
   "source": [
    "# 递归（recursion）\n",
    "递归是计算机中一种重要的编程思想。\n",
    "\n",
    "> Recursion is the process of defining a problem (or the solution to a problem) in terms of (a simpler version of) itself.\n",
    "\n",
    "![recursion](https://upload.wikimedia.org/wikipedia/commons/thumb/d/d9/Droste_Cacao_Alcalinise_blikje%2C_foto4.JPG/900px-Droste_Cacao_Alcalinise_blikje%2C_foto4.JPG)"
   ]
  },
  {
   "cell_type": "markdown",
   "id": "22c36958-e7d0-419b-8d1f-a29853d20940",
   "metadata": {},
   "source": [
    "## 例子：阶乘\n",
    "\n",
    "$$n! = n \\times (n - 1)!$$\n",
    "\n",
    "比如，$5! = 5 \\times 4! = 5 \\times 4 \\times 3! = 5 \\times 4 \\times 3 \\times 2! = 5 \\times 4 \\times 3 \\times 2 \\times 1! = 5 \\times 4 \\times 3 \\times 2 \\times 1 \\times 0! = 120$"
   ]
  },
  {
   "cell_type": "markdown",
   "id": "2f559c16-277e-4da1-96ea-10ecfc26dcc1",
   "metadata": {},
   "source": [
    "```python\n",
    "def factorial(n):\n",
    "    fac = 1\n",
    "    for i in range(1, n + 1):\n",
    "        fac *= i\n",
    "    return fac\n",
    "```\n",
    "\n",
    "----\n",
    "\n",
    "```python\n",
    "\n",
    "def factorial(n):\n",
    "    if n == 0:\n",
    "        return 1\n",
    "    return n * factorial(n - 1)\n",
    "```"
   ]
  },
  {
   "cell_type": "markdown",
   "id": "601de522-e488-42b2-a04e-f965b9ab7184",
   "metadata": {},
   "source": [
    "## 递归的三要素\n",
    "\n",
    "- 解决更小的问题\n",
    "- 有终止条件\n",
    "- 子问题之间不能重叠"
   ]
  },
  {
   "cell_type": "markdown",
   "id": "dd7bc25c-748e-4f80-83ef-99550008a30d",
   "metadata": {},
   "source": [
    "### 练习\n",
    "给定一个列表，使用递归的方式对其求和。\n",
    "\n",
    "```python\n",
    "def my_sum1(vec):\n",
    "    return sum(vec)\n",
    "\n",
    "def my_sum2(vec):\n",
    "    s = 0\n",
    "    for i in vec:\n",
    "        s += i\n",
    "    return s\n",
    "```"
   ]
  },
  {
   "cell_type": "markdown",
   "id": "ba28d903-f67d-41c6-adc0-97799a27051b",
   "metadata": {},
   "source": [
    "## 例子：斐波那契数列\n",
    "在数学上，斐波那契数（Fibonacci sequence）是以递归的方法来定义：\n",
    "    $$F_0=0$$\n",
    "    $$ F_{1} = 1 $$\n",
    "    $$ F_{n} = F_{n-1} + F_{n-2}（n \\geq 2）$$\n",
    "\n",
    "比如：1、 1、 2、 3、 5、 8、 13、 21、 34、 55、 89、 144、 233、 377、 610、 987、$\\dots$\n",
    "\n",
    "试着用递归写出计算第n个斐波那契数。"
   ]
  },
  {
   "cell_type": "markdown",
   "id": "c00bb8d1-1b03-4610-a860-aec3536cc342",
   "metadata": {},
   "source": [
    "### 递归深度\n",
    "\n",
    "```sh\n",
    ">>> import sys\n",
    ">>> sys.getrecursionlimit()\n",
    "```"
   ]
  },
  {
   "cell_type": "markdown",
   "id": "a61a1d03-5fce-4f42-9770-9660e7e8c504",
   "metadata": {},
   "source": [
    "### 非递归版本\n",
    "\n",
    "```python\n",
    "def fib_loop(n):\n",
    "    a, b = 0, 1\n",
    "    for i in range(n):\n",
    "        a, b = b, a + b\n",
    "    return a\n",
    "```"
   ]
  },
  {
   "cell_type": "markdown",
   "id": "4fe007ed-3c78-493a-a6e0-da3a4452ab5c",
   "metadata": {},
   "source": [
    "### 何时用到递归？\n",
    "当明确递归深度不够大的时候。比如：\n",
    "\n",
    "![tree](https://upload.wikimedia.org/wikipedia/commons/thumb/d/da/Binary_search_tree.svg/600px-Binary_search_tree.svg.png)"
   ]
  },
  {
   "cell_type": "markdown",
   "id": "c9f72c07-2eeb-45e6-b861-f1f891002c5d",
   "metadata": {},
   "source": [
    "#### 打印文件\n",
    "\n",
    "```\n",
    "├── images\n",
    "│   ├── append-insert.svg\n",
    "│   ├── append-insert.tldr\n",
    "│   ├── call-by-object-ref.excalidraw\n",
    "│   ├── call-by-object-ref.png\n",
    "│   ├── python_collection.drawio\n",
    "│   └── python_collection.svg\n",
    "├── week2.ipynb\n",
    "├── week3.ipynb\n",
    "├── week4.ipynb\n",
    "└── week6.ipynb\n",
    "```\n",
    "\n",
    "Python的`os`模块是用来处理与操作系统相关的事情。\n",
    "\n",
    "```python\n",
    "os.listdir('.') # . 表示当前目录\n",
    "```\n",
    "\n",
    "为了实现路径的拼接，推荐使用`os.path.join`：\n",
    "\n",
    "```python\n",
    "os.path.join('/Users/zhongpu', 'Desktop')\n",
    "os.path.join('/Users/zhongpu/Desktop', 'test.py')\n",
    "\n",
    "# TODO! path in windows\n",
    "```\n",
    "\n",
    "判定一个路径是否为文件或文件夹：\n",
    "\n",
    "```python\n",
    "os.path.isfile(item_path)\n",
    "os.path.isdir(item_path)\n",
    "```"
   ]
  },
  {
   "cell_type": "markdown",
   "id": "db22c4c4-8af9-49c9-90d3-15a0e4adcbd4",
   "metadata": {},
   "source": [
    "请补全下面的代码：\n",
    "\n",
    "```python\n",
    "import os\n",
    "\n",
    "def traverse_directory(path):\n",
    "    for item in _______:\n",
    "        item_path = os.path.join(path, item)\n",
    "        if os.path.isfile(item_path):\n",
    "            print(item_path)\n",
    "        elif os.path.isdir(item_path):\n",
    "            ___________\n",
    "\n",
    "traverse_directory(\".\")\n",
    "```"
   ]
  },
  {
   "cell_type": "markdown",
   "id": "3cee53fc-d7db-49ec-9cfe-a598402359f9",
   "metadata": {},
   "source": [
    "# 传递命名行参数\n",
    "\n",
    "```python\n",
    "# command.py\n",
    "import math\n",
    "\n",
    "\n",
    "def is_prime(n):\n",
    "    for i in range(2, int(math.sqrt(n)) + 1):\n",
    "        if n % i == 0:\n",
    "            return False\n",
    "        i += 1\n",
    "    return True\n",
    "\n",
    "if __name__ == \"__main__\":\n",
    "    print(is_prime(1007)\n",
    "```\n",
    "\n",
    "如何运行上面的代码？"
   ]
  },
  {
   "cell_type": "markdown",
   "id": "09187cd6-1729-4335-8c8b-eca6109a92dc",
   "metadata": {},
   "source": [
    "## sys模块\n",
    "\n",
    "> This module provides access to some objects used or maintained by the interpreter and to functions that interact strongly with the interpreter."
   ]
  },
  {
   "cell_type": "markdown",
   "id": "94bd51f4-eeb6-4f9a-824b-9d8e1bfe0952",
   "metadata": {},
   "source": [
    "```python\n",
    "# test_command.py\n",
    "import sys\n",
    "\n",
    "arguments = sys.argv\n",
    "print(type(arguments))\n",
    "print(arguments)\n",
    "```\n",
    "\n",
    "分别在命令行运行下面的代码，你有什么结论：\n",
    "\n",
    "```sh\n",
    "python3 test_command.py\n",
    "python3 test_command.py a 1 hello\n",
    "python3 test_command.py 'hello world'\n",
    "```"
   ]
  },
  {
   "cell_type": "markdown",
   "id": "2c8dcfce-1b28-4243-a48c-c244548e61bd",
   "metadata": {},
   "source": [
    "## 练习\n",
    "将上面的`command.py`改写成接收一个命名行参数的版本。"
   ]
  },
  {
   "cell_type": "markdown",
   "id": "ad29cc44-e18d-4894-a60e-dc49d5271c9c",
   "metadata": {},
   "source": [
    "> 真实项目中复杂的命令行参数解析往往使用[click](https://click.palletsprojects.com/en/8.1.x/)。"
   ]
  }
 ],
 "metadata": {
  "kernelspec": {
   "display_name": "Python 3 (ipykernel)",
   "language": "python",
   "name": "python3"
  },
  "language_info": {
   "codemirror_mode": {
    "name": "ipython",
    "version": 3
   },
   "file_extension": ".py",
   "mimetype": "text/x-python",
   "name": "python",
   "nbconvert_exporter": "python",
   "pygments_lexer": "ipython3",
   "version": "3.10.12"
  }
 },
 "nbformat": 4,
 "nbformat_minor": 5
}
