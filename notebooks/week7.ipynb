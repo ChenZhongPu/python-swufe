{
 "cells": [
  {
   "cell_type": "markdown",
   "id": "8b76c552-3d09-40f8-b729-43798db4dde0",
   "metadata": {},
   "source": [
    "# 复习\n",
    "- 单元测试\n",
    "- 代码格式化\n",
    "- 递归\n",
    "- 命令行参数"
   ]
  },
  {
   "cell_type": "markdown",
   "id": "bfe74bb6-f080-4bb9-a95d-e72d23726190",
   "metadata": {},
   "source": [
    "# Quiz\n",
    "\n",
    "为下面的代码添加命令行参数和异常处理。\n",
    "\n",
    "```python\n",
    "# command.py\n",
    "import math\n",
    "\n",
    "\n",
    "def is_prime(n):\n",
    "    for i in range(2, int(math.sqrt(n)) + 1):\n",
    "        if n % i == 0:\n",
    "            return False\n",
    "        i += 1\n",
    "    return True\n",
    "\n",
    "if __name__ == \"__main__\":\n",
    "    print(is_prime(1007)\n",
    "```"
   ]
  },
  {
   "cell_type": "markdown",
   "id": "7173fc85-8271-4c0f-868d-cb69809118ee",
   "metadata": {},
   "source": [
    "# 文件\n",
    "文件读写是程序设计的一项基本任务。\n",
    "\n",
    "> 文件（file）指的是存储在磁盘上的数据序列，它可以包含任何数据内容。\n",
    "\n",
    "![file](https://img.freepik.com/premium-vector/color-download-file-format-icons-collection_629597-70.jpg)"
   ]
  },
  {
   "cell_type": "markdown",
   "id": "45b9aa84-f2cd-4f7a-90d0-cafd3dd9940c",
   "metadata": {},
   "source": [
    "## 文件路径\n",
    "\n",
    "```\n",
    "├── images\n",
    "│   ├── append-insert.svg\n",
    "│   ├── append-insert.tldr\n",
    "│   ├── call-by-object-ref.excalidraw\n",
    "│   ├── call-by-object-ref.png\n",
    "│   ├── python_collection.drawio\n",
    "│   └── python_collection.svg\n",
    "├── week2.ipynb\n",
    "├── week3.ipynb\n",
    "├── week4.ipynb\n",
    "└── week6.ipynb\n",
    "```\n",
    "\n",
    "- **文件名**，即文件的名称。比如`students.txt`。绝大多数文件都有后缀名（suffix），比如`txt`，`csv`。\n",
    "- **路径**（path），即文件存储的位置。文件存储在操作系统中的某个文件夹（目录）中。为了唯一定位一个文件，需要使用完整路径（full path）。\n",
    "\n",
    "> 为了不必要的麻烦，建议文件名和路径全部使用ASCII码，且不要出现空格。"
   ]
  },
  {
   "cell_type": "markdown",
   "id": "2877446e-ad71-4a75-a25f-4446e788ccc6",
   "metadata": {},
   "source": [
    "在Linux和macOS中，文件的根路径（root path）是`/`；路径的分隔符（seperator）也是`/`。比如macOS桌面某个文件的完整路径为`/Users/yourname/Desktop/students.txt`。**Linux和macOS的路径和文件名大小写敏感**。\n",
    "\n",
    "而在Windows中，文件的根路径是某个盘符，比如`c:`、`d:`；路径的分隔符是`\\`。比如Windows桌面某个文件的完整路径为`C:\\Users\\yourname\\Desktop\\students.txt`。**Windows的路径和文件名大小写不敏感**。\n",
    "\n",
    "```python\n",
    ">>> import os\n",
    ">>> os.sep\n",
    "```"
   ]
  },
  {
   "cell_type": "markdown",
   "id": "0568417e-3688-4995-8a08-ee3e5a227e1f",
   "metadata": {},
   "source": [
    "### 正确处理Windows的路径\n",
    "\n",
    "**Windows中路径分隔符和Python的转义字符有冲突**。所以，有三种处理方式：\n",
    "\n",
    "- 手动转义：`'C:\\\\Users\\\\yourname\\\\Desktop\\\\students.txt'`\n",
    "- 原始字符串（raw string)：`r'C:\\Users\\yourname\\Desktop\\students.txt'`\n",
    "- 统一使用`/`作为分隔符：`'C:/Users/yourname/Desktop/students.txt'`（**推荐**）"
   ]
  },
  {
   "cell_type": "markdown",
   "id": "72705cd5-015d-4aea-be44-19d6d4868b16",
   "metadata": {},
   "source": [
    "### 绝对路径和相对路径\n",
    "前面提到的完整路径（如`C:\\Users\\yourname\\Desktop\\students.txt`）一般被称为**绝对路径**（absolute path）。为了方便地读写文件，操作系统也支持使用**相对路径**（relative path）。\n",
    "\n",
    "```\n",
    "├── images\n",
    "│   ├── append-insert.svg\n",
    "│   ├── append-insert.tldr\n",
    "│   ├── call-by-object-ref.excalidraw\n",
    "│   ├── call-by-object-ref.png\n",
    "│   ├── python_collection.drawio\n",
    "│   └── python_collection.svg\n",
    "├── week2.ipynb\n",
    "├── week3.ipynb\n",
    "├── week4.ipynb\n",
    "└── week6.ipynb\n",
    "```\n",
    "\n",
    "假设在`week2.ipynb`相同文件夹（目录）有个`foo.py`，那么该Python脚本访问`week2.ipynb`文件时也可以使用：\n",
    "\n",
    "- `week2.ipynb`\n",
    "- `./week2.ipynb`（其中`.`表示当前工作目录）\n",
    "\n",
    "在命令行使用`pwd`可以得到当前工作目录（current working directory）的绝对路径，或者常用下面的Python代码：\n",
    "\n",
    "```python\n",
    ">>> import os\n",
    ">>> os.getcwd()\n",
    "```\n",
    "\n",
    "思考：该Python脚本访问`images`文件夹中的`append-insert.svg`时的相对路径是什么？\n",
    "\n",
    "----\n",
    "\n",
    "再假设`images`文件夹有个`bar.py`，那么该Python脚本访问`week2.ipynb`文件时也可以使用：\n",
    "\n",
    "- `../week2.ipynb`（其中`..`表示上层目录）"
   ]
  },
  {
   "cell_type": "markdown",
   "id": "4408d74f-8647-4cc7-ab89-cdef95e4a938",
   "metadata": {},
   "source": [
    "## 读文件\n",
    "使用内建的`open()`函数读写文件，默认是读文本文件。参考[Reading and Writing Files](https://docs.python.org/3/tutorial/inputoutput.html#reading-and-writing-files)。\n",
    "\n",
    "```\n",
    "open(filename, mode, encoding=None)\n",
    "```\n",
    "\n",
    "- `filename`：文件的相对或绝对路径\n",
    "- `mode`：读写模式，默认是`r`（表示*read*）\n",
    "- `encoding`：文件编码（不区分大小写）。默认使用平台的默认编码，推荐使用`utf-8`。\n",
    "\n",
    "----\n",
    "\n",
    "```python\n",
    "# 查看平台默认编码\n",
    ">>> import sys\n",
    ">>> sys.getdefaultencoding()\n",
    "```\n",
    "\n",
    "> utf-8是一种针对Unicode的编码，又称万国码，是目前互联网文字编码的事实标准。\n",
    "\n",
    "```python\n",
    ">>> ord('A')\n",
    ">>> ord('西')\n",
    "```"
   ]
  },
  {
   "cell_type": "markdown",
   "id": "24542263-7c73-4b9a-92c6-9f8eb7a81d5d",
   "metadata": {},
   "source": [
    "假设在桌面的`students.txt`文件的内容如下：\n",
    "\n",
    "```python\n",
    "Bob 80\n",
    "Jack 90\n",
    "Alice 85\n",
    "```\n",
    "\n",
    "同在桌面的`read.py`来读取该文件：\n",
    "\n",
    "```python\n",
    "# open返回的是file对象\n",
    ">>> f = open('students.txt', encoding='utf-8')\n",
    ">>> f.read()\n",
    "```"
   ]
  },
  {
   "cell_type": "markdown",
   "id": "9f2c76a1-a795-4019-94db-ac17bc6086fe",
   "metadata": {},
   "source": [
    "### 有开（open）是否需要关（close）\n",
    "> 当**打开**文件时，操作系统会分配一定资源，为了避免资源泄露，需要手动关闭它。\n",
    "\n",
    "```python\n",
    "f = open('students.txt', encoding='utf-8')\n",
    "# some operations\n",
    "f.close()\n",
    "```\n",
    "\n",
    "Python提供了一种更好的方式解决这个问题：(**推荐**）\n",
    "\n",
    "```python\n",
    "with open('students.txt', encoding='utf-8') as f:\n",
    "    pass\n",
    "```\n",
    "\n",
    "这样当操作结束后，会自动关闭文件并释放资源。"
   ]
  },
  {
   "cell_type": "markdown",
   "id": "e3339b0a-1790-4709-b9ce-425b3348ca9b",
   "metadata": {},
   "source": [
    "### 逐行读取\n",
    "一般来说，`read()`是很少用的，因为它会读取全部内容，这样容易在读取大文件时会遇到内存不足的问题。\n",
    "\n",
    "> file对象是可迭代的。\n",
    "\n",
    "```python\n",
    "with open('students.txt', encoding='utf-8') as f:\n",
    "    for line in f:\n",
    "        print(line)\n",
    "```\n",
    "\n",
    "思考：上面打印的结果有什么问题？如何解决？"
   ]
  },
  {
   "cell_type": "markdown",
   "id": "8b485ef3-0bb2-4a85-91b9-30e0f527999b",
   "metadata": {},
   "source": [
    "### 练习\n",
    "读取`students.txt`，将结果保存在一个字典中。"
   ]
  },
  {
   "cell_type": "markdown",
   "id": "30530684-13da-4233-a590-da2e6e09d5f4",
   "metadata": {},
   "source": [
    "## 写文件\n",
    "假设我们要写入`Mary 99`：\n",
    "\n",
    "```python\n",
    "with open('students.txt', 'w', encoding='utf-8') as f:\n",
    "    f.write('Mary 99\\n') # 只能写入字符串\n",
    "```\n",
    "\n",
    "这里的`mode`是`w`（表示*write*）。\n",
    "\n",
    "----\n",
    "\n",
    "思考：测试上面的代码，是否有什么问题？"
   ]
  },
  {
   "cell_type": "markdown",
   "id": "d690dea3-f4c9-4a47-b067-0385097355c6",
   "metadata": {},
   "source": [
    "|  Character |  Meaning |\n",
    "| ------ | ----- |\n",
    "| 'r' | open for reading (default) |\n",
    "| 'w' |  open for writing, truncating the file first |\n",
    "| 'x' | open for exclusive creation, failing if the file already exists |\n",
    "| 'a' | open for writing, appending to the end of file if it exists |\n",
    "| 'b' | binary mode |\n",
    "| 't' | text mode (default) |\n",
    "| '+' | open for updating (reading and writing) |"
   ]
  },
  {
   "cell_type": "markdown",
   "id": "06a639e7-91f1-4dd3-8165-a70fa16f345e",
   "metadata": {},
   "source": [
    "```python\n",
    "with open('students.txt', 'a', encoding='utf-8') as f:\n",
    "    f.write('Mary 99\\n')\n",
    "```"
   ]
  },
  {
   "cell_type": "markdown",
   "id": "44ed0849-01ed-4800-88b4-43a079d198d9",
   "metadata": {},
   "source": [
    "## CSV文件\n",
    "CSV（comma-separated values）文件是一种使用广泛的文件格式，可以在Excel等软件中通过表格的形式展示。\n",
    "\n",
    "```\n",
    "name,score\n",
    "Bob Smith,80\n",
    "Jack,90\n",
    "Alice,85\n",
    "```\n",
    "\n",
    "尽管我们可以将CSV文件当成普通文件处理，但Python的`csv`模块简化了其读写操作。\n",
    "\n",
    "> 实践中，我们一般使用[pandas](https://pandas.pydata.org/)来处理CSV等文件。"
   ]
  },
  {
   "cell_type": "markdown",
   "id": "f5a1e5e6-4aed-412d-9e1a-6eb97e35b3ac",
   "metadata": {},
   "source": [
    "参考[Reading and Writing CSV Files in Python](https://realpython.com/python-csv/)和[csv](https://docs.python.org/3/library/csv.html)。\n",
    "\n",
    "> 建议在读写CSV文件的时候将`newline`参数设置为`''`。\n",
    "\n",
    "### 读CSV\n",
    "\n",
    "```python\n",
    "import csv\n",
    "\n",
    "with open(\"students.csv\", encoding=\"utf-8\", newline=\"\") as f:\n",
    "    csv_f = csv.DictReader(f)\n",
    "    for row in csv_f:\n",
    "        print(row[\"name\"], row[\"score\"])\n",
    "```"
   ]
  },
  {
   "cell_type": "markdown",
   "id": "9e1c993c-8490-4eab-8473-5972045a9c12",
   "metadata": {},
   "source": [
    "### 写CSV\n",
    "\n",
    "```python\n",
    "with open(\"students.csv\", \"a\", encoding=\"utf-8\", newline='') as f:\n",
    "    csv_f = csv.DictWriter(f, [\"name\", \"score\"])\n",
    "    csv_f.writerow({\"name\": \"LeBron James\", \"score\": 99})\n",
    "```"
   ]
  },
  {
   "cell_type": "markdown",
   "id": "25ccd508-fa89-4164-a380-1ceb66c0f7b9",
   "metadata": {},
   "source": [
    "### 练习\n",
    "如何在写新CSV文件的时候同时写入*header*信息？\n",
    "\n",
    "```\n",
    "Name,Age,Email\n",
    "John Doe,25,johndoe@example.com\n",
    "Jane Smith,30,janesmith@example.com\n",
    "Alex Johnson,40,alexjohnson@example.com\n",
    "```\n",
    "\n",
    "> 课后自学另外一种常用的文本格式JSON及[json](https://docs.python.org/3/library/json.html)模块。"
   ]
  },
  {
   "cell_type": "markdown",
   "id": "ebe5f872-ccda-481a-a6cc-c5eb9480d46b",
   "metadata": {},
   "source": [
    "# 二进制文件\n",
    "\n",
    "前面都是在读写文本文件，无法读取二进制（binary）文件。\n",
    "\n",
    "|  Character |  Meaning |\n",
    "| ------ | ----- |\n",
    "| 'r' | open for reading (default) |\n",
    "| 'w' |  open for writing, truncating the file first |\n",
    "| 'x' | open for exclusive creation, failing if the file already exists |\n",
    "| 'a' | open for writing, appending to the end of file if it exists |\n",
    "| 'b' | binary mode |\n",
    "| 't' | text mode (default) |\n",
    "| '+' | open for updating (reading and writing) |\n",
    "\n",
    "\n",
    "`r`模式实际上是`rt`。"
   ]
  },
  {
   "cell_type": "markdown",
   "id": "1d64c511-21c4-42bb-a8e5-c5422e905d54",
   "metadata": {},
   "source": [
    "## pickle\n",
    "[pickle](https://docs.python.org/3/library/pickle.html)是用于二进制序列化模块。\n",
    "\n",
    "> 生成实践中，建议使用Apache Avro、 Apache Parquet等进行二进制序列化。"
   ]
  },
  {
   "cell_type": "markdown",
   "id": "9c3590a4-8f71-45e5-a364-2d54187558a2",
   "metadata": {},
   "source": [
    "```python\n",
    "# 写\n",
    "import pickle\n",
    "\n",
    "medals = {'中国': 103, '日本': 21, '韩国': 17, '意大利': 17}\n",
    "with open('result', 'wb') as f:\n",
    "    pickle.dump(medals, f)\n",
    "```\n",
    "\n",
    "> 读写二进制不需要编码。"
   ]
  },
  {
   "cell_type": "markdown",
   "id": "0602d8d5-0cfd-466c-8c45-6fd57a56e751",
   "metadata": {},
   "source": [
    "-------\n",
    "\n",
    "```python\n",
    "# 读\n",
    "import pickle\n",
    "\n",
    "with open('result', 'rb') as f:\n",
    "    medals = pickle.load(f)\n",
    "print(medals)\n",
    "```"
   ]
  },
  {
   "cell_type": "markdown",
   "id": "13c56751-4d5b-409f-a3d5-658eca6f5375",
   "metadata": {},
   "source": [
    "# 练习\n",
    "\n",
    "`weather.csv`是某气象站观测的2010年的每日天气数据（具体介绍参考[NORMAL_DLY_documentation.pdf](https://www.ncei.noaa.gov/pub/data/cdo/documentation/NORMAL_DLY_documentation.pdf)）。请根据该文件得到每月最大单日降雨量，记录在字典中，并通过`pickle`持久化到二进制文件中。\n",
    "\n",
    "```\n",
    "STATION,STATION_NAME,ELEVATION,LATITUDE,LONGITUDE,DATE,DLY-TMIN-NORMAL,DLY-TMAX-NORMAL,MTD-PRCP-NORMAL\n",
    "GHCND:USC00327027,PETERSBURG 2 N ND US,466.3,48.0355,-98.01,20100101,-33,145,2\n",
    "```"
   ]
  }
 ],
 "metadata": {
  "kernelspec": {
   "display_name": "Python 3 (ipykernel)",
   "language": "python",
   "name": "python3"
  },
  "language_info": {
   "codemirror_mode": {
    "name": "ipython",
    "version": 3
   },
   "file_extension": ".py",
   "mimetype": "text/x-python",
   "name": "python",
   "nbconvert_exporter": "python",
   "pygments_lexer": "ipython3",
   "version": "3.10.12"
  }
 },
 "nbformat": 4,
 "nbformat_minor": 5
}
