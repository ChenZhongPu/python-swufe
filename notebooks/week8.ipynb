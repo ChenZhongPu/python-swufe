{
 "cells": [
  {
   "cell_type": "markdown",
   "id": "bf58e56f-059f-4822-9208-0c4c790b54a6",
   "metadata": {},
   "source": [
    "# 类与面向对象设计\n",
    "> Everything in Python is an object, which has a type (class).\n",
    "\n",
    "试着查看`help(str)`。"
   ]
  },
  {
   "cell_type": "markdown",
   "id": "aff70bf1-3c0c-4166-8345-552f03e19b6f",
   "metadata": {},
   "source": [
    "```python\n",
    "class Dog:\n",
    "    def __init__(self, name, age):\n",
    "        self.name = name\n",
    "        self.age = age\n",
    "\n",
    "    def bark(self):\n",
    "        print(f'I am {}, woof,woof,woof!', self.name)\n",
    "\n",
    "dog = Dog('旺财', 2)\n",
    "print(dog.name)\n",
    "dog.brak()\n",
    "```"
   ]
  },
  {
   "cell_type": "markdown",
   "id": "872c7bf4-330f-426d-8738-d899c17c3968",
   "metadata": {},
   "source": [
    "# 进一步学习\n",
    "\n",
    "- [Python for Data Analysis, 3E](https://wesmckinney.com/book/)\n",
    "\n",
    "----\n",
    "\n",
    "针对Python编程技巧的高阶书籍：\n",
    "\n",
    "- Python Cookbook, Third Edition, by David Beazley and Brian K. Jones (O'Reilly)\n",
    "- Fluent Python by Luciano Ramalho (O'Reilly)\n",
    "- Effective Python, Second Edition, by Brett Slatkin (Addison-Wesley)"
   ]
  }
 ],
 "metadata": {
  "kernelspec": {
   "display_name": "Python 3 (ipykernel)",
   "language": "python",
   "name": "python3"
  },
  "language_info": {
   "codemirror_mode": {
    "name": "ipython",
    "version": 3
   },
   "file_extension": ".py",
   "mimetype": "text/x-python",
   "name": "python",
   "nbconvert_exporter": "python",
   "pygments_lexer": "ipython3",
   "version": "3.10.12"
  }
 },
 "nbformat": 4,
 "nbformat_minor": 5
}
