{
 "cells": [
  {
   "cell_type": "markdown",
   "id": "e9ff54e0-06b4-4bdd-8472-22142fba1df4",
   "metadata": {},
   "source": [
    "# Lambda\n",
    "\n",
    "在Python中可以定义匿名函数：\n",
    "\n",
    "```python\n",
    "def make_incrementor(n):\n",
    "    return lambda x: x + n\n",
    "\n",
    "f = make_incrementor(42)\n",
    "print(f(1))\n",
    "```\n",
    "\n",
    "```\n",
    "lambda parameters: expression\n",
    "```\n",
    "\n",
    "> Lambda functions can be used wherever function objects are required."
   ]
  },
  {
   "cell_type": "markdown",
   "id": "cfd3ecd7-040b-4e7f-be26-c8119fb5ee13",
   "metadata": {},
   "source": [
    "## 使用案例\n",
    "考虑`help(list.sort)`：\n",
    "\n",
    "```python\n",
    "pairs = [(1, 'one'), (2, 'two'), (3, 'three'), (4, 'four')]\n",
    "```\n",
    "\n",
    "如果要将上面的`pairs`按第二个值排序：\n",
    "\n",
    "```python\n",
    "def get_second(item):\n",
    "    return item[1]\n",
    "\n",
    "pairs.sort(key=get_second)\n",
    "```\n",
    "\n",
    "显然，我们没有必要定义一个函数。代码可以简化为：\n",
    "\n",
    "```python\n",
    "pairs.sort(key=lambda x: x[1])\n",
    "```"
   ]
  },
  {
   "cell_type": "markdown",
   "id": "a0b8a651-594b-41d8-945c-148b62ca67da",
   "metadata": {},
   "source": [
    "## 练习1\n",
    "\n",
    "请把下面的列表中的元素按转成int后再排序。\n",
    "\n",
    "```python\n",
    "data = ['87', '3', '10']\n",
    "````"
   ]
  },
  {
   "cell_type": "markdown",
   "id": "dfede9a3-371b-4607-84a2-3b9c96dca756",
   "metadata": {},
   "source": [
    "## 练习2\n",
    "\n",
    "```python\n",
    "medals = {'意大利': 17, '日本': 21, '韩国': 17, '中国': 103}\n",
    "````\n",
    "\n",
    "- 将上面的字典按value排序。\n",
    "\n",
    "```python\n",
    "# 字典不能直接sort\n",
    "sorted_items = sorted(medals.items(), key=lambda item: item[1])\n",
    "sorted_medals = dict(sorted_items)\n",
    "```\n",
    "\n",
    "- 将上面的字典先value排序，如果value相同，再按key排序。"
   ]
  },
  {
   "cell_type": "markdown",
   "id": "35abc32b-ba7a-48c6-ba1e-720fd2e902e2",
   "metadata": {},
   "source": [
    "## 注意\n",
    "很多时候，你没有必要使用lambda：\n",
    "\n",
    "```python\n",
    "from operator import itemgetter\n",
    "\n",
    "pairs = [(1, 'one'), (2, 'two'), (3, 'three'), (4, 'four')]\n",
    "pairs.sort(key=itemgetter(1))\n",
    "```\n",
    "\n",
    "> “总之，Python 中的 lambda 函数只是一颗简单的语法糖。它的许多使用场景，要么本身就不存在，要么更适合用 operator 模块来满足。lambda 并非无可替代。当你确实想要编写 lambda 函数时，请尝试问自己一个问题：“这个功能用 def 写一个普通函数是不是更合适？”尤其当需求比较复杂时，千万别试着把大段逻辑糅进一个巨大的匿名函数里。请记住，没什么特殊功能是 lambda 能做而普通函数做不到的。”"
   ]
  },
  {
   "cell_type": "markdown",
   "id": "40e859ab-4c73-42b9-9acd-1b23f274c6e7",
   "metadata": {},
   "source": [
    "## 练习\n",
    "考虑一个dict列表，每个表示一个人的简介：\n",
    "\n",
    "```python\n",
    "people = [{\"name\": \"Bob\", \"age\": 20}, {\"name\": \"Mike\", \"age\": 10}, {\"name\": \"Steve\", \"age\": 20}, {\"name\": \"Alice\", \"age\": 10}]\n",
    "```\n",
    "\n",
    "先按年龄排序，再按名字排序。"
   ]
  },
  {
   "cell_type": "markdown",
   "id": "bf58e56f-059f-4822-9208-0c4c790b54a6",
   "metadata": {},
   "source": [
    "# 类与面向对象设计\n",
    "> Everything in Python is an object, which has a type (class).\n",
    "\n",
    "试着查看`help(str)`。"
   ]
  },
  {
   "cell_type": "markdown",
   "id": "aff70bf1-3c0c-4166-8345-552f03e19b6f",
   "metadata": {},
   "source": [
    "```python\n",
    "class Dog:\n",
    "    def __init__(self, name, age):\n",
    "        self.name = name\n",
    "        self.age = age\n",
    "\n",
    "    def bark(self):\n",
    "        print(f'I am {}, woof,woof,woof!', self.name)\n",
    "\n",
    "dog = Dog('旺财', 2)\n",
    "print(dog.name)\n",
    "dog.bark()\n",
    "```"
   ]
  },
  {
   "cell_type": "markdown",
   "id": "872c7bf4-330f-426d-8738-d899c17c3968",
   "metadata": {},
   "source": [
    "# 进一步学习\n",
    "\n",
    "- [Python for Data Analysis, 3E](https://wesmckinney.com/book/)\n",
    "\n",
    "----\n",
    "\n",
    "针对Python编程技巧的高阶书籍：\n",
    "\n",
    "- Python Cookbook, Third Edition, by David Beazley and Brian K. Jones (O'Reilly)\n",
    "- Fluent Python by Luciano Ramalho (O'Reilly)\n",
    "- Effective Python, Second Edition, by Brett Slatkin (Addison-Wesley)"
   ]
  }
 ],
 "metadata": {
  "kernelspec": {
   "display_name": "Python 3 (ipykernel)",
   "language": "python",
   "name": "python3"
  },
  "language_info": {
   "codemirror_mode": {
    "name": "ipython",
    "version": 3
   },
   "file_extension": ".py",
   "mimetype": "text/x-python",
   "name": "python",
   "nbconvert_exporter": "python",
   "pygments_lexer": "ipython3",
   "version": "3.10.13"
  }
 },
 "nbformat": 4,
 "nbformat_minor": 5
}
