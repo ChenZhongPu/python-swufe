{
 "cells": [
  {
   "cell_type": "markdown",
   "id": "65cfaf53-e65f-46e6-bf2d-e77a8e35f962",
   "metadata": {},
   "source": [
    "# 生成二维码\n",
    "需要提前安装依赖`qrcode`：\n",
    "\n",
    "```sh\n",
    "pip install qrcode\n",
    "```"
   ]
  },
  {
   "cell_type": "code",
   "execution_count": 1,
   "id": "f2c16837-d59b-4b4e-990a-7a4f6621f5b6",
   "metadata": {},
   "outputs": [],
   "source": [
    "import qrcode"
   ]
  },
  {
   "cell_type": "code",
   "execution_count": 2,
   "id": "90256d4d-15cc-4dad-9eda-2e827fdef775",
   "metadata": {},
   "outputs": [],
   "source": [
    "img = qrcode.make('Python程序设计')\n",
    "img.save(\"out.png\")"
   ]
  }
 ],
 "metadata": {
  "kernelspec": {
   "display_name": "Python 3 (ipykernel)",
   "language": "python",
   "name": "python3"
  },
  "language_info": {
   "codemirror_mode": {
    "name": "ipython",
    "version": 3
   },
   "file_extension": ".py",
   "mimetype": "text/x-python",
   "name": "python",
   "nbconvert_exporter": "python",
   "pygments_lexer": "ipython3",
   "version": "3.10.12"
  }
 },
 "nbformat": 4,
 "nbformat_minor": 5
}
