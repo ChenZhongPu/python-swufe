{
 "cells": [
  {
   "cell_type": "markdown",
   "id": "d180fe54-0391-4ad5-bcad-4db8502dde05",
   "metadata": {},
   "source": [
    "# 复习\n",
    "\n",
    "- 程序、源代码、Python解释器、Shell\n",
    "- 对象、类型（整数、字符串、浮点数、布尔量等）\n",
    "- 变量\n",
    "- 分支（`if` `elif` `else`）"
   ]
  },
  {
   "cell_type": "markdown",
   "id": "f5ac09dd-573b-4b69-9c40-49c7fa98a85a",
   "metadata": {},
   "source": [
    "# Quiz\n",
    "\n",
    "考虑下面的场景，用代码实现：\n",
    "\n",
    "```python\n",
    "# 初始金额是个变量\n",
    "money = 200_000\n",
    "# 如果金额小于10_000，利率是1%\n",
    "# 如果金额在10_000到50_000（不含）之间，利率为2%\n",
    "# 如果金额在50_000到100_000（不含）之间，利率为3%\n",
    "# 如果金额在100_000到500_000（不含）之间，利率为4%\n",
    "# 如果金额大于等于500_000，利率为5%\n",
    "# 最终打印出3年后的本息和\n",
    "```"
   ]
  },
  {
   "cell_type": "markdown",
   "id": "794cda62-2031-4dca-b0cb-022615ba38b4",
   "metadata": {},
   "source": [
    "# 1. 字符串\n",
    "\n",
    "> 字符串（string）表示字符（character）的集合，可以使用单引号或双引号包围。\n",
    "\n",
    "和其他编程语言不同的是，Python实际上并没有**字符**的概念，而认为是长度为1的字符串。\n",
    "\n",
    "```python\n",
    "'hello 你好 🐍'\n",
    "\"hello 你好 🐍\"\n",
    "\"hello ' abc\"\n",
    "'hello \" abc\"\n",
    "'hello \\' abc'\n",
    "```"
   ]
  },
  {
   "cell_type": "markdown",
   "id": "3e6e226c-034e-45a6-baa3-043d57a9fd16",
   "metadata": {
    "editable": true,
    "slideshow": {
     "slide_type": ""
    },
    "tags": []
   },
   "source": [
    "## 1.1 转义字符（escape chracter）\n",
    "\n",
    "> An escape character is a character that invokes an alternative interpretation on the following characters in a character sequence.\n",
    "\n",
    "最常用的转义字符：\n",
    "\n",
    "- \\n：换行\n",
    "- \\r：回车\n",
    "- \\\\：斜线\n",
    "- \\'：单引号\n",
    "- \\\"：双引号\n",
    "- \\t：Tab"
   ]
  },
  {
   "cell_type": "markdown",
   "id": "ef9b55c9-8abe-4274-a01c-2fadbc2fcf54",
   "metadata": {},
   "source": [
    "## 1.2 字符串常用操作"
   ]
  },
  {
   "cell_type": "code",
   "execution_count": 1,
   "id": "dcd6a39a-5e04-4b40-b729-c3ad31217f1d",
   "metadata": {},
   "outputs": [
    {
     "data": {
      "text/plain": [
       "'西南财经'"
      ]
     },
     "execution_count": 1,
     "metadata": {},
     "output_type": "execute_result"
    }
   ],
   "source": [
    "# 字符串合并\n",
    "a = '西南'\n",
    "b = '财经'\n",
    "a + b"
   ]
  },
  {
   "cell_type": "code",
   "execution_count": 2,
   "id": "9d58a100-f41f-4b2d-b3ec-050ecd945e76",
   "metadata": {},
   "outputs": [
    {
     "name": "stdout",
     "output_type": "stream",
     "text": [
      "+----------+\n"
     ]
    }
   ],
   "source": [
    "a = '+' + '-' * 10 + '+'\n",
    "print(a)"
   ]
  },
  {
   "cell_type": "code",
   "execution_count": 3,
   "id": "c39fa002-4ba3-4f68-aa01-76ddee936284",
   "metadata": {},
   "outputs": [
    {
     "data": {
      "text/plain": [
       "12"
      ]
     },
     "execution_count": 3,
     "metadata": {},
     "output_type": "execute_result"
    }
   ],
   "source": [
    "# 字符串长度\n",
    "len(a)"
   ]
  },
  {
   "cell_type": "markdown",
   "id": "567e0d6a-498a-4a91-94ac-6c718f6ef375",
   "metadata": {},
   "source": [
    "### 练习\n",
    "\n",
    "下面的代码是否合法？\n",
    "\n",
    "```python\n",
    "age = 10\n",
    "print('His age is ' + age) \n",
    "```"
   ]
  },
  {
   "cell_type": "markdown",
   "id": "2cdd3ac3-e2c9-46a0-8aa3-b005b2004037",
   "metadata": {},
   "source": [
    "### 更多字符串操作\n",
    "\n",
    "- 字符串认为是一串字符，可以使用索引（index）访问，从0开始记数。\n",
    "\n",
    "```python\n",
    ">>> a[0]\n",
    "```\n",
    "\n",
    "- 字符串是可以比较大小的。每个字符实际上表示为Unicode，对于英文字母，也可以认为是ASCII码。比如`a`即97，`b`是98；`A`是65，`B`是66。\n",
    "\n",
    "```python\n",
    ">>> ord('a')\n",
    ">>> 'a' < 'b'\n",
    ">>> 'Hello' < 'World'\n",
    ">>> 'abc' < 'abd'\n",
    ">>> 'abc' < 'abcd'\n",
    "```"
   ]
  },
  {
   "cell_type": "markdown",
   "id": "c419ad28-bbe9-491f-8fb1-aa4d488fb4c8",
   "metadata": {},
   "source": [
    "## 1.3 多行字符串\n",
    "\n",
    "如何用Python显示下面的内容？\n",
    "\n",
    "```\n",
    "Beautiful is better than ugly.\n",
    "Explicit is better than implicit.\n",
    "Simple is better than complex.\n",
    "Complex is better than complicated.\n",
    "Flat is better than nested.\n",
    "Sparse is better than dense.\n",
    "Readability counts.\n",
    "Special cases aren't special enough to break the rules.\n",
    "Although practicality beats purity.\n",
    "Errors should never pass silently.\n",
    "Unless explicitly silenced.\n",
    "In the face of ambiguity, refuse the temptation to guess.\n",
    "There should be one-- and preferably only one --obvious way to do it.\n",
    "Although that way may not be obvious at first unless you're Dutch.\n",
    "Now is better than never.\n",
    "Although never is often better than *right* now.\n",
    "If the implementation is hard to explain, it's a bad idea.\n",
    "If the implementation is easy to explain, it may be a good idea.\n",
    "Namespaces are one honking great idea -- let's do more of those!\n",
    "```"
   ]
  },
  {
   "cell_type": "code",
   "execution_count": 4,
   "id": "0d7f0971-32e5-4cfc-8d2d-91c7931c2be4",
   "metadata": {},
   "outputs": [],
   "source": [
    "zen = \"\"\"\n",
    "Beautiful is better than ugly.\n",
    "Explicit is better than implicit.\n",
    "Simple is better than complex.\n",
    "Complex is better than complicated.\n",
    "Flat is better than nested.\n",
    "Sparse is better than dense.\n",
    "Readability counts.\n",
    "Special cases aren't special enough to break the rules.\n",
    "Although practicality beats purity.\n",
    "Errors should never pass silently.\n",
    "Unless explicitly silenced.\n",
    "In the face of ambiguity, refuse the temptation to guess.\n",
    "There should be one-- and preferably only one --obvious way to do it.\n",
    "Although that way may not be obvious at first unless you're Dutch.\n",
    "Now is better than never.\n",
    "Although never is often better than *right* now.\n",
    "If the implementation is hard to explain, it's a bad idea.\n",
    "If the implementation is easy to explain, it may be a good idea.\n",
    "Namespaces are one honking great idea -- let's do more of those!\n",
    "\"\"\""
   ]
  },
  {
   "cell_type": "markdown",
   "id": "8299b31e-2b8b-411c-b213-d1a785648e45",
   "metadata": {},
   "source": [
    "# 2. 输入输出\n",
    "\n",
    "这里指的是标准输入（从键盘）和标准输出（到屏幕）。"
   ]
  },
  {
   "cell_type": "markdown",
   "id": "9741df22-3dcb-4bfe-8ac7-2d77d3927886",
   "metadata": {},
   "source": [
    "## 2.1 输入\n",
    "\n",
    "```python\n",
    "age = input()\n",
    "```"
   ]
  },
  {
   "cell_type": "markdown",
   "id": "1ba4b6d0-f3c8-4a7c-85a3-9e4b87b47a35",
   "metadata": {},
   "source": [
    "### 练习\n",
    "\n",
    "- 此处`age`的类型是什么？\n",
    "- 如果`age`等于65，打印“你可以退休了。”"
   ]
  },
  {
   "cell_type": "markdown",
   "id": "317564fa-2c42-4a38-97d6-f0a536de6584",
   "metadata": {},
   "source": [
    "## 2.2 格式化字符串"
   ]
  },
  {
   "cell_type": "code",
   "execution_count": 5,
   "id": "c245b9d8-af4d-4034-bf2b-76b41f1587bc",
   "metadata": {},
   "outputs": [
    {
     "name": "stdout",
     "output_type": "stream",
     "text": [
      "His age is 10\n"
     ]
    }
   ],
   "source": [
    "age = 10\n",
    "print('His age is', age)"
   ]
  },
  {
   "cell_type": "markdown",
   "id": "24639f7e-673b-4c19-b9ba-9be709cec257",
   "metadata": {},
   "source": [
    "### HELP\n",
    "对于不熟悉的函数，记得查阅文档，或者使用`help`。"
   ]
  },
  {
   "cell_type": "code",
   "execution_count": 6,
   "id": "58d8f72e-b45a-4a15-ad8c-dd01c3ba9d76",
   "metadata": {},
   "outputs": [
    {
     "name": "stdout",
     "output_type": "stream",
     "text": [
      "Help on built-in function print in module builtins:\n",
      "\n",
      "print(*args, sep=' ', end='\\n', file=None, flush=False)\n",
      "    Prints the values to a stream, or to sys.stdout by default.\n",
      "    \n",
      "    sep\n",
      "      string inserted between values, default a space.\n",
      "    end\n",
      "      string appended after the last value, default a newline.\n",
      "    file\n",
      "      a file-like object (stream); defaults to the current sys.stdout.\n",
      "    flush\n",
      "      whether to forcibly flush the stream.\n",
      "\n"
     ]
    }
   ],
   "source": [
    "help(print)"
   ]
  },
  {
   "cell_type": "code",
   "execution_count": 7,
   "id": "8b28e4dc-aabb-4edc-86c1-6f3a2df44757",
   "metadata": {},
   "outputs": [
    {
     "name": "stdout",
     "output_type": "stream",
     "text": [
      "His age is 10\n"
     ]
    }
   ],
   "source": [
    "# Python 3.6引入的新语法\n",
    "print(f'His age is {age}')"
   ]
  },
  {
   "cell_type": "markdown",
   "id": "2fa1b72a-3a46-4002-a08f-a44cd0aea164",
   "metadata": {},
   "source": [
    "### 浮点数的格式化输出\n",
    "\n",
    "基本格式为：\n",
    "```\n",
    "{value:{width}.{precision}{type}}\n",
    "```\n",
    "\n",
    "常用的`type`包括：\n",
    "\n",
    "- d：10进制整数（decimal）\n",
    "- f：浮点数（float），默认精度是6\n",
    "- e：浮点数的计数法\n",
    "- g：自动选择f或e\n",
    "\n",
    "参考[FormatSpec](https://docs.python.org/3/library/string.html#formatspec)."
   ]
  },
  {
   "cell_type": "code",
   "execution_count": 8,
   "id": "31ba3002-58e1-4845-98c5-142fe2e5e414",
   "metadata": {},
   "outputs": [
    {
     "name": "stdout",
     "output_type": "stream",
     "text": [
      "3.14\n",
      "3.14\n"
     ]
    }
   ],
   "source": [
    "pi = 3.1415926\n",
    "# 老语法 1\n",
    "print('%.2f' % pi)\n",
    "# 老语法 2\n",
    "print('{:.2f}'.format(pi))"
   ]
  },
  {
   "cell_type": "code",
   "execution_count": 9,
   "id": "f85f66fa-feba-46b3-9c30-cb97acc179a0",
   "metadata": {},
   "outputs": [
    {
     "name": "stdout",
     "output_type": "stream",
     "text": [
      "3.14\n"
     ]
    }
   ],
   "source": [
    "# 新语法\n",
    "print(f'{pi:.2f}')"
   ]
  },
  {
   "cell_type": "markdown",
   "id": "d3a2ce43-6c0c-4b43-882e-6d64def60e59",
   "metadata": {},
   "source": [
    "### 练习\n",
    "假设本金为10.00，年利率为1%。已知年份最大宽度为3，金额保留2位小数，最大宽度为8。请按下面的格式输出第0、10和100年的本息和。\n",
    "\n",
    "```\n",
    "  0|    10.00\n",
    " 10|    25.94\n",
    "100|137806.12\n",
    "```"
   ]
  },
  {
   "cell_type": "markdown",
   "id": "6fed97ca-2847-46e4-865a-5019db2f5b78",
   "metadata": {},
   "source": [
    "# 3. 循环（loop）与迭代（iteration）\n",
    "\n",
    "程序设计的一个重要思想是：**Don't Repeat Youself**。如果你发现代码有重复，这往往意味着需要重构（refactor）。重构的一个简单思路就是利用循环结构或迭代。\n",
    "\n",
    "> the action or a process of iterating or repeating: such as\n",
    ">   -  a procedure in which repetition of a sequence of operations yields results successively closer to a desired result\n",
    ">   -  the repetition of a sequence of computer instructions a specified number of times or until a condition is met "
   ]
  },
  {
   "cell_type": "markdown",
   "id": "09014afe-fe10-4959-bb7d-c14e4ac17d5e",
   "metadata": {},
   "source": [
    "## 3.1 while结构\n",
    "\n",
    "考虑计算1 + 2 + 3 + ... + 100。它可以表述为：初始化和为0，每次迭代加上变量`i`（从1开始递增**直到**100）。\n",
    "\n",
    "基本结构：\n",
    "\n",
    "```python\n",
    "while <some_condition>:\n",
    "    <loop_body>\n",
    "```\n",
    "\n",
    "当`some_condition`满足时，就执行`loop_body`，并重复进行。不能是无效循环，所以一般需要修改`some_condition`的状态。"
   ]
  },
  {
   "cell_type": "code",
   "execution_count": 10,
   "id": "5e09dce5-4b1e-4ee5-bae6-2038bc837166",
   "metadata": {},
   "outputs": [
    {
     "name": "stdout",
     "output_type": "stream",
     "text": [
      "5050\n"
     ]
    }
   ],
   "source": [
    "i = 1\n",
    "sum = 0\n",
    "while i <= 100:\n",
    "    sum += i\n",
    "    i += 1\n",
    "print(sum)"
   ]
  },
  {
   "cell_type": "markdown",
   "id": "adb3fa98-7b71-4589-bed9-5ab67cc7ede9",
   "metadata": {},
   "source": [
    "### 练习\n",
    "给定一个正整数（如54321），输出它的反转值（12345）。要求**不能**使用字符串。"
   ]
  },
  {
   "cell_type": "markdown",
   "id": "ade98927-9925-43e4-876d-0dd49cb694da",
   "metadata": {},
   "source": [
    "### break和continue\n",
    "\n",
    "> break表示跳出循环结构，提前结束。\n",
    "\n",
    "下面代码的含义是什么？\n",
    "\n",
    "```python\n",
    "i = 0\n",
    "sum = 0\n",
    "while True:\n",
    "    i += 1\n",
    "    sum += i\n",
    "    if sum >= 1000:\n",
    "        break\n",
    "print(i)\n",
    "```\n",
    "\n",
    "> continue表示直接进入下一次循环，而跳过循环体内的剩余代码\n",
    "\n",
    "```python\n",
    "i = 0\n",
    "sum = 0\n",
    "while i <= 100:\n",
    "    i += 1\n",
    "    if i % 9 == 0:\n",
    "        continue\n",
    "    sum += i\n",
    "print(i)\n",
    "```"
   ]
  },
  {
   "cell_type": "markdown",
   "id": "e4fb8aad-4e06-4558-9c86-1912d51826f3",
   "metadata": {},
   "source": [
    "## 3.2 迭代"
   ]
  },
  {
   "cell_type": "code",
   "execution_count": 11,
   "id": "a29b7e03-f54b-4450-86d3-515561df3c7c",
   "metadata": {},
   "outputs": [
    {
     "name": "stdout",
     "output_type": "stream",
     "text": [
      "S\n",
      "W\n",
      "U\n",
      "F\n",
      "E\n"
     ]
    }
   ],
   "source": [
    "# 字符串是可迭代的（iteraable）\n",
    "s = 'SWUFE'\n",
    "for c in s:\n",
    "    print(c)"
   ]
  },
  {
   "cell_type": "code",
   "execution_count": 12,
   "id": "6d796368-198f-46e8-bff5-ad1bcb798387",
   "metadata": {},
   "outputs": [
    {
     "name": "stdout",
     "output_type": "stream",
     "text": [
      "S\n",
      "W\n",
      "U\n",
      "F\n",
      "E\n"
     ]
    }
   ],
   "source": [
    "# 如果使用while结构\n",
    "i = 0\n",
    "while i < len(s):\n",
    "    print(s[i])\n",
    "    i += 1"
   ]
  },
  {
   "cell_type": "markdown",
   "id": "67ac745c-b627-4600-8d36-2056b2cccf0c",
   "metadata": {},
   "source": [
    "### 练习\n",
    "\n",
    "给定字符串`CBANBAWTO`（假设都是大写字母），输出第一个在字母`U`之后的字母。"
   ]
  },
  {
   "cell_type": "markdown",
   "id": "ccf2446d-3374-401c-90f0-0f1736562793",
   "metadata": {},
   "source": [
    "### range\n",
    "`range`方法可以方便地生成一个范围，是一个常用的可迭代对象。"
   ]
  },
  {
   "cell_type": "code",
   "execution_count": 13,
   "id": "71ab926a-ad76-4c3e-b475-57420c8b4873",
   "metadata": {},
   "outputs": [
    {
     "name": "stdout",
     "output_type": "stream",
     "text": [
      "0\n",
      "1\n",
      "2\n",
      "3\n",
      "4\n",
      "5\n",
      "6\n",
      "7\n",
      "8\n",
      "9\n"
     ]
    }
   ],
   "source": [
    "for i in range(10):\n",
    "    print(i)"
   ]
  },
  {
   "cell_type": "markdown",
   "id": "79ba98dc-bb0a-4392-a807-1710631ace57",
   "metadata": {},
   "source": [
    "### 练习\n",
    "- 分别使用`for`和`while`输出`[0, 10]`之间偶数。\n",
    "- 分析下面程序的结果。\n",
    "\n",
    "```python\n",
    "sum = 0\n",
    "for i in range(5, 12, 2):\n",
    "    sum += i\n",
    "    if sum == 5:\n",
    "        break\n",
    "print(sum)\n",
    "```"
   ]
  },
  {
   "cell_type": "markdown",
   "id": "e44346ef-70da-4e66-be96-cf9607e870be",
   "metadata": {},
   "source": [
    "# 4. 函数（function）\n",
    "\n",
    "> 程序是由一系列定义和操作组成的。\n",
    "\n",
    "操作一般是通过函数完成的。Python提供了很多内建（built-in）函数，我们也可以自行定义并调用函数。\n",
    "\n",
    "```python\n",
    "def add(a, b):\n",
    "    return a + b\n",
    "```\n",
    "\n",
    "几个关键概念：\n",
    "\n",
    "- 函数名\n",
    "- 参数（parameter）\n",
    "- 返回值"
   ]
  },
  {
   "cell_type": "markdown",
   "id": "11171e21-9efb-45d5-b04a-825795c3b03d",
   "metadata": {},
   "source": [
    "## 4.1 类型提示\n",
    "\n",
    "Python是动态类型的语言，属于鸭子类型（duck typing）系统。对于大型项目，推荐使用类型提示，从而在运行前就能发现潜在的错误。\n",
    "\n",
    "> If it walks like a duck and it quacks like a duck, then it must be a duck."
   ]
  },
  {
   "cell_type": "code",
   "execution_count": 14,
   "id": "1d88c19e-f990-41cd-b5b1-517f3f948217",
   "metadata": {},
   "outputs": [],
   "source": [
    "def add(a: int, b: int) -> int:\n",
    "    return a + b"
   ]
  },
  {
   "cell_type": "markdown",
   "id": "10527200-5b2e-4797-a3b7-4f77fd3e402e",
   "metadata": {},
   "source": [
    "### 练习\n",
    "定义一个函数，接收两个参数，分别是初始金额`money`和存款年数`year`，按前面Quiz的规则计算存款`year`后的本息和。"
   ]
  },
  {
   "cell_type": "markdown",
   "id": "1d92df6d-f293-4cf2-a9fb-9db0a68a24b4",
   "metadata": {},
   "source": [
    "### 课后练习\n",
    "\n",
    "- 定义一个函数，给定一个正整数，检查它是否为质数（prime）。\n",
    "- 从2开始，输出前20个质数。"
   ]
  },
  {
   "cell_type": "markdown",
   "id": "dedfdac1-0841-415d-9102-1ec844e4154a",
   "metadata": {},
   "source": []
  }
 ],
 "metadata": {
  "kernelspec": {
   "display_name": "Python 3 (ipykernel)",
   "language": "python",
   "name": "python3"
  },
  "language_info": {
   "codemirror_mode": {
    "name": "ipython",
    "version": 3
   },
   "file_extension": ".py",
   "mimetype": "text/x-python",
   "name": "python",
   "nbconvert_exporter": "python",
   "pygments_lexer": "ipython3",
   "version": "3.11.4"
  }
 },
 "nbformat": 4,
 "nbformat_minor": 5
}
